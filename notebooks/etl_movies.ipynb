{
 "cells": [
  {
   "cell_type": "code",
   "execution_count": 38,
   "metadata": {},
   "outputs": [],
   "source": [
    "import pandas as pd\n",
    "import numpy as np"
   ]
  },
  {
   "cell_type": "code",
   "execution_count": 39,
   "metadata": {},
   "outputs": [
    {
     "name": "stderr",
     "output_type": "stream",
     "text": [
      "C:\\Users\\elian\\AppData\\Local\\Temp\\ipykernel_7360\\1302902186.py:1: DtypeWarning: Columns (10) have mixed types. Specify dtype option on import or set low_memory=False.\n",
      "  df_movies = pd.read_csv('../data/crudo/movies_dataset.csv')\n"
     ]
    }
   ],
   "source": [
    "df_movies = pd.read_csv('../data/crudo/movies_dataset.csv')"
   ]
  },
  {
   "cell_type": "code",
   "execution_count": 40,
   "metadata": {},
   "outputs": [
    {
     "data": {
      "text/plain": [
       "adult                     object\n",
       "belongs_to_collection     object\n",
       "budget                    object\n",
       "genres                    object\n",
       "homepage                  object\n",
       "id                        object\n",
       "imdb_id                   object\n",
       "original_language         object\n",
       "original_title            object\n",
       "overview                  object\n",
       "popularity                object\n",
       "poster_path               object\n",
       "production_companies      object\n",
       "production_countries      object\n",
       "release_date              object\n",
       "revenue                  float64\n",
       "runtime                  float64\n",
       "spoken_languages          object\n",
       "status                    object\n",
       "tagline                   object\n",
       "title                     object\n",
       "video                     object\n",
       "vote_average             float64\n",
       "vote_count               float64\n",
       "dtype: object"
      ]
     },
     "execution_count": 40,
     "metadata": {},
     "output_type": "execute_result"
    }
   ],
   "source": [
    "df_movies.dtypes"
   ]
  },
  {
   "cell_type": "code",
   "execution_count": 41,
   "metadata": {},
   "outputs": [
    {
     "data": {
      "text/html": [
       "<div>\n",
       "<style scoped>\n",
       "    .dataframe tbody tr th:only-of-type {\n",
       "        vertical-align: middle;\n",
       "    }\n",
       "\n",
       "    .dataframe tbody tr th {\n",
       "        vertical-align: top;\n",
       "    }\n",
       "\n",
       "    .dataframe thead th {\n",
       "        text-align: right;\n",
       "    }\n",
       "</style>\n",
       "<table border=\"1\" class=\"dataframe\">\n",
       "  <thead>\n",
       "    <tr style=\"text-align: right;\">\n",
       "      <th></th>\n",
       "      <th>adult</th>\n",
       "      <th>belongs_to_collection</th>\n",
       "      <th>budget</th>\n",
       "      <th>genres</th>\n",
       "      <th>homepage</th>\n",
       "      <th>id</th>\n",
       "      <th>imdb_id</th>\n",
       "      <th>original_language</th>\n",
       "      <th>original_title</th>\n",
       "      <th>overview</th>\n",
       "      <th>...</th>\n",
       "      <th>release_date</th>\n",
       "      <th>revenue</th>\n",
       "      <th>runtime</th>\n",
       "      <th>spoken_languages</th>\n",
       "      <th>status</th>\n",
       "      <th>tagline</th>\n",
       "      <th>title</th>\n",
       "      <th>video</th>\n",
       "      <th>vote_average</th>\n",
       "      <th>vote_count</th>\n",
       "    </tr>\n",
       "  </thead>\n",
       "  <tbody>\n",
       "    <tr>\n",
       "      <th>0</th>\n",
       "      <td>False</td>\n",
       "      <td>{'id': 10194, 'name': 'Toy Story Collection', ...</td>\n",
       "      <td>30000000</td>\n",
       "      <td>[{'id': 16, 'name': 'Animation'}, {'id': 35, '...</td>\n",
       "      <td>http://toystory.disney.com/toy-story</td>\n",
       "      <td>862</td>\n",
       "      <td>tt0114709</td>\n",
       "      <td>en</td>\n",
       "      <td>Toy Story</td>\n",
       "      <td>Led by Woody, Andy's toys live happily in his ...</td>\n",
       "      <td>...</td>\n",
       "      <td>1995-10-30</td>\n",
       "      <td>373554033.0</td>\n",
       "      <td>81.0</td>\n",
       "      <td>[{'iso_639_1': 'en', 'name': 'English'}]</td>\n",
       "      <td>Released</td>\n",
       "      <td>NaN</td>\n",
       "      <td>Toy Story</td>\n",
       "      <td>False</td>\n",
       "      <td>7.7</td>\n",
       "      <td>5415.0</td>\n",
       "    </tr>\n",
       "    <tr>\n",
       "      <th>1</th>\n",
       "      <td>False</td>\n",
       "      <td>NaN</td>\n",
       "      <td>65000000</td>\n",
       "      <td>[{'id': 12, 'name': 'Adventure'}, {'id': 14, '...</td>\n",
       "      <td>NaN</td>\n",
       "      <td>8844</td>\n",
       "      <td>tt0113497</td>\n",
       "      <td>en</td>\n",
       "      <td>Jumanji</td>\n",
       "      <td>When siblings Judy and Peter discover an encha...</td>\n",
       "      <td>...</td>\n",
       "      <td>1995-12-15</td>\n",
       "      <td>262797249.0</td>\n",
       "      <td>104.0</td>\n",
       "      <td>[{'iso_639_1': 'en', 'name': 'English'}, {'iso...</td>\n",
       "      <td>Released</td>\n",
       "      <td>Roll the dice and unleash the excitement!</td>\n",
       "      <td>Jumanji</td>\n",
       "      <td>False</td>\n",
       "      <td>6.9</td>\n",
       "      <td>2413.0</td>\n",
       "    </tr>\n",
       "    <tr>\n",
       "      <th>2</th>\n",
       "      <td>False</td>\n",
       "      <td>{'id': 119050, 'name': 'Grumpy Old Men Collect...</td>\n",
       "      <td>0</td>\n",
       "      <td>[{'id': 10749, 'name': 'Romance'}, {'id': 35, ...</td>\n",
       "      <td>NaN</td>\n",
       "      <td>15602</td>\n",
       "      <td>tt0113228</td>\n",
       "      <td>en</td>\n",
       "      <td>Grumpier Old Men</td>\n",
       "      <td>A family wedding reignites the ancient feud be...</td>\n",
       "      <td>...</td>\n",
       "      <td>1995-12-22</td>\n",
       "      <td>0.0</td>\n",
       "      <td>101.0</td>\n",
       "      <td>[{'iso_639_1': 'en', 'name': 'English'}]</td>\n",
       "      <td>Released</td>\n",
       "      <td>Still Yelling. Still Fighting. Still Ready for...</td>\n",
       "      <td>Grumpier Old Men</td>\n",
       "      <td>False</td>\n",
       "      <td>6.5</td>\n",
       "      <td>92.0</td>\n",
       "    </tr>\n",
       "    <tr>\n",
       "      <th>3</th>\n",
       "      <td>False</td>\n",
       "      <td>NaN</td>\n",
       "      <td>16000000</td>\n",
       "      <td>[{'id': 35, 'name': 'Comedy'}, {'id': 18, 'nam...</td>\n",
       "      <td>NaN</td>\n",
       "      <td>31357</td>\n",
       "      <td>tt0114885</td>\n",
       "      <td>en</td>\n",
       "      <td>Waiting to Exhale</td>\n",
       "      <td>Cheated on, mistreated and stepped on, the wom...</td>\n",
       "      <td>...</td>\n",
       "      <td>1995-12-22</td>\n",
       "      <td>81452156.0</td>\n",
       "      <td>127.0</td>\n",
       "      <td>[{'iso_639_1': 'en', 'name': 'English'}]</td>\n",
       "      <td>Released</td>\n",
       "      <td>Friends are the people who let you be yourself...</td>\n",
       "      <td>Waiting to Exhale</td>\n",
       "      <td>False</td>\n",
       "      <td>6.1</td>\n",
       "      <td>34.0</td>\n",
       "    </tr>\n",
       "    <tr>\n",
       "      <th>4</th>\n",
       "      <td>False</td>\n",
       "      <td>{'id': 96871, 'name': 'Father of the Bride Col...</td>\n",
       "      <td>0</td>\n",
       "      <td>[{'id': 35, 'name': 'Comedy'}]</td>\n",
       "      <td>NaN</td>\n",
       "      <td>11862</td>\n",
       "      <td>tt0113041</td>\n",
       "      <td>en</td>\n",
       "      <td>Father of the Bride Part II</td>\n",
       "      <td>Just when George Banks has recovered from his ...</td>\n",
       "      <td>...</td>\n",
       "      <td>1995-02-10</td>\n",
       "      <td>76578911.0</td>\n",
       "      <td>106.0</td>\n",
       "      <td>[{'iso_639_1': 'en', 'name': 'English'}]</td>\n",
       "      <td>Released</td>\n",
       "      <td>Just When His World Is Back To Normal... He's ...</td>\n",
       "      <td>Father of the Bride Part II</td>\n",
       "      <td>False</td>\n",
       "      <td>5.7</td>\n",
       "      <td>173.0</td>\n",
       "    </tr>\n",
       "  </tbody>\n",
       "</table>\n",
       "<p>5 rows × 24 columns</p>\n",
       "</div>"
      ],
      "text/plain": [
       "   adult                              belongs_to_collection    budget  \\\n",
       "0  False  {'id': 10194, 'name': 'Toy Story Collection', ...  30000000   \n",
       "1  False                                                NaN  65000000   \n",
       "2  False  {'id': 119050, 'name': 'Grumpy Old Men Collect...         0   \n",
       "3  False                                                NaN  16000000   \n",
       "4  False  {'id': 96871, 'name': 'Father of the Bride Col...         0   \n",
       "\n",
       "                                              genres  \\\n",
       "0  [{'id': 16, 'name': 'Animation'}, {'id': 35, '...   \n",
       "1  [{'id': 12, 'name': 'Adventure'}, {'id': 14, '...   \n",
       "2  [{'id': 10749, 'name': 'Romance'}, {'id': 35, ...   \n",
       "3  [{'id': 35, 'name': 'Comedy'}, {'id': 18, 'nam...   \n",
       "4                     [{'id': 35, 'name': 'Comedy'}]   \n",
       "\n",
       "                               homepage     id    imdb_id original_language  \\\n",
       "0  http://toystory.disney.com/toy-story    862  tt0114709                en   \n",
       "1                                   NaN   8844  tt0113497                en   \n",
       "2                                   NaN  15602  tt0113228                en   \n",
       "3                                   NaN  31357  tt0114885                en   \n",
       "4                                   NaN  11862  tt0113041                en   \n",
       "\n",
       "                original_title  \\\n",
       "0                    Toy Story   \n",
       "1                      Jumanji   \n",
       "2             Grumpier Old Men   \n",
       "3            Waiting to Exhale   \n",
       "4  Father of the Bride Part II   \n",
       "\n",
       "                                            overview  ... release_date  \\\n",
       "0  Led by Woody, Andy's toys live happily in his ...  ...   1995-10-30   \n",
       "1  When siblings Judy and Peter discover an encha...  ...   1995-12-15   \n",
       "2  A family wedding reignites the ancient feud be...  ...   1995-12-22   \n",
       "3  Cheated on, mistreated and stepped on, the wom...  ...   1995-12-22   \n",
       "4  Just when George Banks has recovered from his ...  ...   1995-02-10   \n",
       "\n",
       "       revenue runtime                                   spoken_languages  \\\n",
       "0  373554033.0    81.0           [{'iso_639_1': 'en', 'name': 'English'}]   \n",
       "1  262797249.0   104.0  [{'iso_639_1': 'en', 'name': 'English'}, {'iso...   \n",
       "2          0.0   101.0           [{'iso_639_1': 'en', 'name': 'English'}]   \n",
       "3   81452156.0   127.0           [{'iso_639_1': 'en', 'name': 'English'}]   \n",
       "4   76578911.0   106.0           [{'iso_639_1': 'en', 'name': 'English'}]   \n",
       "\n",
       "     status                                            tagline  \\\n",
       "0  Released                                                NaN   \n",
       "1  Released          Roll the dice and unleash the excitement!   \n",
       "2  Released  Still Yelling. Still Fighting. Still Ready for...   \n",
       "3  Released  Friends are the people who let you be yourself...   \n",
       "4  Released  Just When His World Is Back To Normal... He's ...   \n",
       "\n",
       "                         title  video vote_average vote_count  \n",
       "0                    Toy Story  False          7.7     5415.0  \n",
       "1                      Jumanji  False          6.9     2413.0  \n",
       "2             Grumpier Old Men  False          6.5       92.0  \n",
       "3            Waiting to Exhale  False          6.1       34.0  \n",
       "4  Father of the Bride Part II  False          5.7      173.0  \n",
       "\n",
       "[5 rows x 24 columns]"
      ]
     },
     "execution_count": 41,
     "metadata": {},
     "output_type": "execute_result"
    }
   ],
   "source": [
    "df_movies.head()"
   ]
  },
  {
   "cell_type": "code",
   "execution_count": 42,
   "metadata": {},
   "outputs": [
    {
     "data": {
      "text/plain": [
       "Index(['adult', 'belongs_to_collection', 'budget', 'genres', 'homepage', 'id',\n",
       "       'imdb_id', 'original_language', 'original_title', 'overview',\n",
       "       'popularity', 'poster_path', 'production_companies',\n",
       "       'production_countries', 'release_date', 'revenue', 'runtime',\n",
       "       'spoken_languages', 'status', 'tagline', 'title', 'video',\n",
       "       'vote_average', 'vote_count'],\n",
       "      dtype='object')"
      ]
     },
     "execution_count": 42,
     "metadata": {},
     "output_type": "execute_result"
    }
   ],
   "source": [
    "df_movies.columns"
   ]
  },
  {
   "cell_type": "markdown",
   "metadata": {},
   "source": [
    "Creo una función para verificar si alguna columna tiene datos anidados"
   ]
  },
  {
   "cell_type": "code",
   "execution_count": 43,
   "metadata": {},
   "outputs": [
    {
     "name": "stdout",
     "output_type": "stream",
     "text": [
      "Columnas aptas para desanidar: ['belongs_to_collection', 'genres', 'production_companies', 'production_countries', 'spoken_languages']\n"
     ]
    }
   ],
   "source": [
    "import ast\n",
    "\n",
    "def is_nested(column):\n",
    "    try:\n",
    "        sample = column.dropna().iloc[0]\n",
    "        converted = ast.literal_eval(sample)\n",
    "        return isinstance(converted, (dict, list))\n",
    "    except (ValueError, SyntaxError, IndexError):\n",
    "        return False\n",
    "\n",
    "# Verifica si las columnas son aptas para desanidar\n",
    "nested_columns = [col for col in df_movies.columns if is_nested(df_movies[col])]\n",
    "print(\"Columnas aptas para desanidar:\", nested_columns)"
   ]
  },
  {
   "cell_type": "markdown",
   "metadata": {},
   "source": [
    "Verifico cada columna a desanidar"
   ]
  },
  {
   "cell_type": "code",
   "execution_count": 44,
   "metadata": {},
   "outputs": [
    {
     "data": {
      "text/plain": [
       "0    {'id': 10194, 'name': 'Toy Story Collection', ...\n",
       "1                                                  NaN\n",
       "2    {'id': 119050, 'name': 'Grumpy Old Men Collect...\n",
       "3                                                  NaN\n",
       "4    {'id': 96871, 'name': 'Father of the Bride Col...\n",
       "Name: belongs_to_collection, dtype: object"
      ]
     },
     "execution_count": 44,
     "metadata": {},
     "output_type": "execute_result"
    }
   ],
   "source": [
    "df_movies['belongs_to_collection'].head()"
   ]
  },
  {
   "cell_type": "code",
   "execution_count": 45,
   "metadata": {},
   "outputs": [
    {
     "data": {
      "text/plain": [
       "0    [{'id': 16, 'name': 'Animation'}, {'id': 35, '...\n",
       "1    [{'id': 12, 'name': 'Adventure'}, {'id': 14, '...\n",
       "2    [{'id': 10749, 'name': 'Romance'}, {'id': 35, ...\n",
       "3    [{'id': 35, 'name': 'Comedy'}, {'id': 18, 'nam...\n",
       "4                       [{'id': 35, 'name': 'Comedy'}]\n",
       "Name: genres, dtype: object"
      ]
     },
     "execution_count": 45,
     "metadata": {},
     "output_type": "execute_result"
    }
   ],
   "source": [
    "df_movies['genres'].head()"
   ]
  },
  {
   "cell_type": "code",
   "execution_count": 46,
   "metadata": {},
   "outputs": [
    {
     "data": {
      "text/plain": [
       "0       [{'name': 'Pixar Animation Studios', 'id': 3}]\n",
       "1    [{'name': 'TriStar Pictures', 'id': 559}, {'na...\n",
       "2    [{'name': 'Warner Bros.', 'id': 6194}, {'name'...\n",
       "3    [{'name': 'Twentieth Century Fox Film Corporat...\n",
       "4    [{'name': 'Sandollar Productions', 'id': 5842}...\n",
       "Name: production_companies, dtype: object"
      ]
     },
     "execution_count": 46,
     "metadata": {},
     "output_type": "execute_result"
    }
   ],
   "source": [
    "df_movies['production_companies'].head()"
   ]
  },
  {
   "cell_type": "code",
   "execution_count": 47,
   "metadata": {},
   "outputs": [
    {
     "data": {
      "text/plain": [
       "0    [{'iso_3166_1': 'US', 'name': 'United States o...\n",
       "1    [{'iso_3166_1': 'US', 'name': 'United States o...\n",
       "2    [{'iso_3166_1': 'US', 'name': 'United States o...\n",
       "3    [{'iso_3166_1': 'US', 'name': 'United States o...\n",
       "4    [{'iso_3166_1': 'US', 'name': 'United States o...\n",
       "Name: production_countries, dtype: object"
      ]
     },
     "execution_count": 47,
     "metadata": {},
     "output_type": "execute_result"
    }
   ],
   "source": [
    "df_movies['production_countries'].head()"
   ]
  },
  {
   "cell_type": "code",
   "execution_count": 48,
   "metadata": {},
   "outputs": [
    {
     "data": {
      "text/plain": [
       "0             [{'iso_639_1': 'en', 'name': 'English'}]\n",
       "1    [{'iso_639_1': 'en', 'name': 'English'}, {'iso...\n",
       "2             [{'iso_639_1': 'en', 'name': 'English'}]\n",
       "3             [{'iso_639_1': 'en', 'name': 'English'}]\n",
       "4             [{'iso_639_1': 'en', 'name': 'English'}]\n",
       "Name: spoken_languages, dtype: object"
      ]
     },
     "execution_count": 48,
     "metadata": {},
     "output_type": "execute_result"
    }
   ],
   "source": [
    "df_movies['spoken_languages'].head()"
   ]
  },
  {
   "cell_type": "markdown",
   "metadata": {},
   "source": [
    "Creo una función para convertir cadenas a diccionarios o listas de manera segura"
   ]
  },
  {
   "cell_type": "code",
   "execution_count": 49,
   "metadata": {},
   "outputs": [],
   "source": [
    "def safe_convert(value):\n",
    "    try:\n",
    "        return ast.literal_eval(value)\n",
    "    except (ValueError, SyntaxError):\n",
    "        return {}\n",
    "\n",
    "# Convierto y desanido las columnas aptas\n",
    "df_movies['belongs_to_collection'] = df_movies['belongs_to_collection'].apply(lambda x: safe_convert(x) if pd.notnull(x) and x != 'nan' else {})\n",
    "df_movies['genres'] = df_movies['genres'].apply(lambda x: safe_convert(x) if pd.notnull(x) and x != 'nan' else [])\n",
    "df_movies['production_companies'] = df_movies['production_companies'].apply(lambda x: safe_convert(x) if pd.notnull(x) and x != 'nan' else [])\n",
    "df_movies['production_countries'] = df_movies['production_countries'].apply(lambda x: safe_convert(x) if pd.notnull(x) and x != 'nan' else [])\n",
    "df_movies['spoken_languages'] = df_movies['spoken_languages'].apply(lambda x: safe_convert(x) if pd.notnull(x) and x != 'nan' else [])"
   ]
  },
  {
   "cell_type": "markdown",
   "metadata": {},
   "source": [
    "Creo DataFrames separados para cada columna desanidada"
   ]
  },
  {
   "cell_type": "code",
   "execution_count": 50,
   "metadata": {},
   "outputs": [],
   "source": [
    "# DataFrame para belongs_to_collection\n",
    "df_belongs_to_collection = pd.json_normalize(df_movies['belongs_to_collection'])\n",
    "df_belongs_to_collection['id'] = df_movies['id']  # Agrego columna 'id' para unir más tarde\n",
    "\n",
    "# DataFrame para genres\n",
    "df_genres = df_movies.explode('genres').reset_index(drop=True)\n",
    "df_genres = pd.concat([df_genres['id'], pd.json_normalize(df_genres['genres'])], axis=1)\n",
    "\n",
    "# DataFrame para production_companies\n",
    "df_production_companies = df_movies.explode('production_companies').reset_index(drop=True)\n",
    "df_production_companies = pd.concat([df_production_companies['id'], pd.json_normalize(df_production_companies['production_companies'])], axis=1)\n",
    "\n",
    "# DataFrame para production_countries\n",
    "df_production_countries = df_movies.explode('production_countries').reset_index(drop=True)\n",
    "df_production_countries = pd.concat([df_production_countries['id'], pd.json_normalize(df_production_countries['production_countries'])], axis=1)\n",
    "\n",
    "# DataFrame para spoken_languages\n",
    "df_spoken_languages = df_movies.explode('spoken_languages').reset_index(drop=True)\n",
    "df_spoken_languages = pd.concat([df_spoken_languages['id'], pd.json_normalize(df_spoken_languages['spoken_languages'])], axis=1)\n"
   ]
  },
  {
   "cell_type": "markdown",
   "metadata": {},
   "source": [
    "Elimino filas duplicadas de cada dataframe"
   ]
  },
  {
   "cell_type": "code",
   "execution_count": 51,
   "metadata": {},
   "outputs": [
    {
     "name": "stdout",
     "output_type": "stream",
     "text": [
      "Tamaño de df_belongs_to_collection antes de eliminar filas duplicadas:(45466, 4)\n",
      "Tamaño de df_belongs_to_collection despues de eliminar filas duplicadas:(45436, 4)\n",
      "---------\n",
      "Tamaño de df_genres antes de eliminar filas duplicadas:(93548, 3)\n",
      "Tamaño de df_genres despues de eliminar filas duplicadas:(93469, 3)\n",
      "---------\n",
      "Tamaño de df_production_companies antes de eliminar filas duplicadas:(82426, 3)\n",
      "Tamaño de df_production_companies despues de eliminar filas duplicadas:(82338, 3)\n",
      "---------\n",
      "Tamaño de df_production_countries antes de eliminar filas duplicadas:(55711, 3)\n",
      "Tamaño de df_production_countries despues de eliminar filas duplicadas:(55653, 3)\n",
      "---------\n",
      "Tamaño de df_spoken_languages antes de eliminar filas duplicadas:(57135, 3)\n",
      "Tamaño de df_spoken_languages despues de eliminar filas duplicadas:(57099, 3)\n"
     ]
    }
   ],
   "source": [
    "print(f'Tamaño de df_belongs_to_collection antes de eliminar filas duplicadas:{df_belongs_to_collection.shape}')\n",
    "df_belongs_to_collection = df_belongs_to_collection.drop_duplicates()\n",
    "print(f'Tamaño de df_belongs_to_collection despues de eliminar filas duplicadas:{df_belongs_to_collection.shape}')\n",
    "print('---------')\n",
    "print(f'Tamaño de df_genres antes de eliminar filas duplicadas:{df_genres.shape}')\n",
    "df_genres = df_genres.drop_duplicates()\n",
    "print(f'Tamaño de df_genres despues de eliminar filas duplicadas:{df_genres.shape}')\n",
    "print('---------')\n",
    "print(f'Tamaño de df_production_companies antes de eliminar filas duplicadas:{df_production_companies.shape}')\n",
    "df_production_companies = df_production_companies.drop_duplicates()\n",
    "print(f'Tamaño de df_production_companies despues de eliminar filas duplicadas:{df_production_companies.shape}')\n",
    "print('---------')\n",
    "print(f'Tamaño de df_production_countries antes de eliminar filas duplicadas:{df_production_countries.shape}')\n",
    "df_production_countries = df_production_countries.drop_duplicates()\n",
    "print(f'Tamaño de df_production_countries despues de eliminar filas duplicadas:{df_production_countries.shape}')\n",
    "print('---------')\n",
    "print(f'Tamaño de df_spoken_languages antes de eliminar filas duplicadas:{df_spoken_languages.shape}')\n",
    "df_spoken_languages = df_spoken_languages.drop_duplicates()\n",
    "print(f'Tamaño de df_spoken_languages despues de eliminar filas duplicadas:{df_spoken_languages.shape}')"
   ]
  },
  {
   "cell_type": "markdown",
   "metadata": {},
   "source": [
    "Exporto los DataFrames nuevos a archivos CSV externos"
   ]
  },
  {
   "cell_type": "code",
   "execution_count": 52,
   "metadata": {},
   "outputs": [],
   "source": [
    "# Exportar cada DataFrame a un archivo CSV\n",
    "df_belongs_to_collection.to_csv('belongs_to_collection.csv', index=False)\n",
    "df_genres.to_csv('genres.csv', index=False)\n",
    "df_production_companies.to_csv('production_companies.csv', index=False)\n",
    "df_production_countries.to_csv('production_countries.csv', index=False)\n",
    "df_spoken_languages.to_csv('spoken_languages.csv', index=False)\n"
   ]
  },
  {
   "cell_type": "markdown",
   "metadata": {},
   "source": [
    "Agrupo los DataFrames en el dataset principal"
   ]
  },
  {
   "cell_type": "code",
   "execution_count": 53,
   "metadata": {},
   "outputs": [],
   "source": [
    "# Cargo los DataFrames exportados\n",
    "df_belongs_to_collection = pd.read_csv('belongs_to_collection.csv')\n",
    "df_genres = pd.read_csv('genres.csv')\n",
    "df_production_companies = pd.read_csv('production_companies.csv')\n",
    "df_production_countries = pd.read_csv('production_countries.csv')\n",
    "df_spoken_languages = pd.read_csv('spoken_languages.csv')\n",
    "\n",
    "\n",
    "# Uno los DataFrames al dataset principal usando la columna 'id' como clave\n",
    "df_movies_merged = df_movies.drop(columns=['belongs_to_collection', 'genres', 'production_companies', 'production_countries', 'spoken_languages'])\n",
    "\n",
    "# Merge para 'belongs_to_collection'\n",
    "df_belongs_to_collection.rename(columns={'name': 'collection_name'}, inplace=True)\n",
    "df_movies_merged = pd.merge(df_movies_merged, df_belongs_to_collection[['id', 'collection_name']], on='id', how='left')\n",
    "\n",
    "# Merge para 'genres'\n",
    "df_genres.rename(columns={'name': 'genre_name'}, inplace=True)\n",
    "df_movies_merged = pd.merge(df_movies_merged, df_genres[['id', 'genre_name']], on='id', how='left')\n",
    "\n",
    "# Merge para 'production_companies'\n",
    "df_production_companies.rename(columns={'name': 'production_company_name'}, inplace=True)\n",
    "df_movies_merged = pd.merge(df_movies_merged, df_production_companies[['id', 'production_company_name']], on='id', how='left')\n",
    "\n",
    "# Merge para 'production_countries'\n",
    "df_production_countries.rename(columns={'name': 'production_country_name'}, inplace=True)\n",
    "df_movies_merged = pd.merge(df_movies_merged, df_production_countries[['id', 'production_country_name']], on='id', how='left')\n",
    "\n",
    "# Merge para 'spoken_languages'\n",
    "df_spoken_languages.rename(columns={'name': 'spoken_language_name'}, inplace=True)\n",
    "df_movies_merged = pd.merge(df_movies_merged, df_spoken_languages[['id', 'spoken_language_name']], on='id', how='left')\n",
    "\n",
    "\n"
   ]
  },
  {
   "cell_type": "code",
   "execution_count": 54,
   "metadata": {},
   "outputs": [
    {
     "data": {
      "text/html": [
       "<div>\n",
       "<style scoped>\n",
       "    .dataframe tbody tr th:only-of-type {\n",
       "        vertical-align: middle;\n",
       "    }\n",
       "\n",
       "    .dataframe tbody tr th {\n",
       "        vertical-align: top;\n",
       "    }\n",
       "\n",
       "    .dataframe thead th {\n",
       "        text-align: right;\n",
       "    }\n",
       "</style>\n",
       "<table border=\"1\" class=\"dataframe\">\n",
       "  <thead>\n",
       "    <tr style=\"text-align: right;\">\n",
       "      <th></th>\n",
       "      <th>adult</th>\n",
       "      <th>budget</th>\n",
       "      <th>homepage</th>\n",
       "      <th>id</th>\n",
       "      <th>imdb_id</th>\n",
       "      <th>original_language</th>\n",
       "      <th>original_title</th>\n",
       "      <th>overview</th>\n",
       "      <th>popularity</th>\n",
       "      <th>poster_path</th>\n",
       "      <th>...</th>\n",
       "      <th>tagline</th>\n",
       "      <th>title</th>\n",
       "      <th>video</th>\n",
       "      <th>vote_average</th>\n",
       "      <th>vote_count</th>\n",
       "      <th>collection_name</th>\n",
       "      <th>genre_name</th>\n",
       "      <th>production_company_name</th>\n",
       "      <th>production_country_name</th>\n",
       "      <th>spoken_language_name</th>\n",
       "    </tr>\n",
       "  </thead>\n",
       "  <tbody>\n",
       "    <tr>\n",
       "      <th>0</th>\n",
       "      <td>False</td>\n",
       "      <td>30000000</td>\n",
       "      <td>http://toystory.disney.com/toy-story</td>\n",
       "      <td>862</td>\n",
       "      <td>tt0114709</td>\n",
       "      <td>en</td>\n",
       "      <td>Toy Story</td>\n",
       "      <td>Led by Woody, Andy's toys live happily in his ...</td>\n",
       "      <td>21.946943</td>\n",
       "      <td>/rhIRbceoE9lR4veEXuwCC2wARtG.jpg</td>\n",
       "      <td>...</td>\n",
       "      <td>NaN</td>\n",
       "      <td>Toy Story</td>\n",
       "      <td>False</td>\n",
       "      <td>7.7</td>\n",
       "      <td>5415.0</td>\n",
       "      <td>Toy Story Collection</td>\n",
       "      <td>Animation</td>\n",
       "      <td>Pixar Animation Studios</td>\n",
       "      <td>United States of America</td>\n",
       "      <td>English</td>\n",
       "    </tr>\n",
       "    <tr>\n",
       "      <th>1</th>\n",
       "      <td>False</td>\n",
       "      <td>30000000</td>\n",
       "      <td>http://toystory.disney.com/toy-story</td>\n",
       "      <td>862</td>\n",
       "      <td>tt0114709</td>\n",
       "      <td>en</td>\n",
       "      <td>Toy Story</td>\n",
       "      <td>Led by Woody, Andy's toys live happily in his ...</td>\n",
       "      <td>21.946943</td>\n",
       "      <td>/rhIRbceoE9lR4veEXuwCC2wARtG.jpg</td>\n",
       "      <td>...</td>\n",
       "      <td>NaN</td>\n",
       "      <td>Toy Story</td>\n",
       "      <td>False</td>\n",
       "      <td>7.7</td>\n",
       "      <td>5415.0</td>\n",
       "      <td>Toy Story Collection</td>\n",
       "      <td>Comedy</td>\n",
       "      <td>Pixar Animation Studios</td>\n",
       "      <td>United States of America</td>\n",
       "      <td>English</td>\n",
       "    </tr>\n",
       "    <tr>\n",
       "      <th>2</th>\n",
       "      <td>False</td>\n",
       "      <td>30000000</td>\n",
       "      <td>http://toystory.disney.com/toy-story</td>\n",
       "      <td>862</td>\n",
       "      <td>tt0114709</td>\n",
       "      <td>en</td>\n",
       "      <td>Toy Story</td>\n",
       "      <td>Led by Woody, Andy's toys live happily in his ...</td>\n",
       "      <td>21.946943</td>\n",
       "      <td>/rhIRbceoE9lR4veEXuwCC2wARtG.jpg</td>\n",
       "      <td>...</td>\n",
       "      <td>NaN</td>\n",
       "      <td>Toy Story</td>\n",
       "      <td>False</td>\n",
       "      <td>7.7</td>\n",
       "      <td>5415.0</td>\n",
       "      <td>Toy Story Collection</td>\n",
       "      <td>Family</td>\n",
       "      <td>Pixar Animation Studios</td>\n",
       "      <td>United States of America</td>\n",
       "      <td>English</td>\n",
       "    </tr>\n",
       "    <tr>\n",
       "      <th>3</th>\n",
       "      <td>False</td>\n",
       "      <td>65000000</td>\n",
       "      <td>NaN</td>\n",
       "      <td>8844</td>\n",
       "      <td>tt0113497</td>\n",
       "      <td>en</td>\n",
       "      <td>Jumanji</td>\n",
       "      <td>When siblings Judy and Peter discover an encha...</td>\n",
       "      <td>17.015539</td>\n",
       "      <td>/vzmL6fP7aPKNKPRTFnZmiUfciyV.jpg</td>\n",
       "      <td>...</td>\n",
       "      <td>Roll the dice and unleash the excitement!</td>\n",
       "      <td>Jumanji</td>\n",
       "      <td>False</td>\n",
       "      <td>6.9</td>\n",
       "      <td>2413.0</td>\n",
       "      <td>NaN</td>\n",
       "      <td>Adventure</td>\n",
       "      <td>TriStar Pictures</td>\n",
       "      <td>United States of America</td>\n",
       "      <td>English</td>\n",
       "    </tr>\n",
       "    <tr>\n",
       "      <th>4</th>\n",
       "      <td>False</td>\n",
       "      <td>65000000</td>\n",
       "      <td>NaN</td>\n",
       "      <td>8844</td>\n",
       "      <td>tt0113497</td>\n",
       "      <td>en</td>\n",
       "      <td>Jumanji</td>\n",
       "      <td>When siblings Judy and Peter discover an encha...</td>\n",
       "      <td>17.015539</td>\n",
       "      <td>/vzmL6fP7aPKNKPRTFnZmiUfciyV.jpg</td>\n",
       "      <td>...</td>\n",
       "      <td>Roll the dice and unleash the excitement!</td>\n",
       "      <td>Jumanji</td>\n",
       "      <td>False</td>\n",
       "      <td>6.9</td>\n",
       "      <td>2413.0</td>\n",
       "      <td>NaN</td>\n",
       "      <td>Adventure</td>\n",
       "      <td>TriStar Pictures</td>\n",
       "      <td>United States of America</td>\n",
       "      <td>Français</td>\n",
       "    </tr>\n",
       "  </tbody>\n",
       "</table>\n",
       "<p>5 rows × 24 columns</p>\n",
       "</div>"
      ],
      "text/plain": [
       "   adult    budget                              homepage    id    imdb_id  \\\n",
       "0  False  30000000  http://toystory.disney.com/toy-story   862  tt0114709   \n",
       "1  False  30000000  http://toystory.disney.com/toy-story   862  tt0114709   \n",
       "2  False  30000000  http://toystory.disney.com/toy-story   862  tt0114709   \n",
       "3  False  65000000                                   NaN  8844  tt0113497   \n",
       "4  False  65000000                                   NaN  8844  tt0113497   \n",
       "\n",
       "  original_language original_title  \\\n",
       "0                en      Toy Story   \n",
       "1                en      Toy Story   \n",
       "2                en      Toy Story   \n",
       "3                en        Jumanji   \n",
       "4                en        Jumanji   \n",
       "\n",
       "                                            overview popularity  \\\n",
       "0  Led by Woody, Andy's toys live happily in his ...  21.946943   \n",
       "1  Led by Woody, Andy's toys live happily in his ...  21.946943   \n",
       "2  Led by Woody, Andy's toys live happily in his ...  21.946943   \n",
       "3  When siblings Judy and Peter discover an encha...  17.015539   \n",
       "4  When siblings Judy and Peter discover an encha...  17.015539   \n",
       "\n",
       "                        poster_path  ...  \\\n",
       "0  /rhIRbceoE9lR4veEXuwCC2wARtG.jpg  ...   \n",
       "1  /rhIRbceoE9lR4veEXuwCC2wARtG.jpg  ...   \n",
       "2  /rhIRbceoE9lR4veEXuwCC2wARtG.jpg  ...   \n",
       "3  /vzmL6fP7aPKNKPRTFnZmiUfciyV.jpg  ...   \n",
       "4  /vzmL6fP7aPKNKPRTFnZmiUfciyV.jpg  ...   \n",
       "\n",
       "                                     tagline      title  video vote_average  \\\n",
       "0                                        NaN  Toy Story  False          7.7   \n",
       "1                                        NaN  Toy Story  False          7.7   \n",
       "2                                        NaN  Toy Story  False          7.7   \n",
       "3  Roll the dice and unleash the excitement!    Jumanji  False          6.9   \n",
       "4  Roll the dice and unleash the excitement!    Jumanji  False          6.9   \n",
       "\n",
       "  vote_count       collection_name genre_name  production_company_name  \\\n",
       "0     5415.0  Toy Story Collection  Animation  Pixar Animation Studios   \n",
       "1     5415.0  Toy Story Collection     Comedy  Pixar Animation Studios   \n",
       "2     5415.0  Toy Story Collection     Family  Pixar Animation Studios   \n",
       "3     2413.0                   NaN  Adventure         TriStar Pictures   \n",
       "4     2413.0                   NaN  Adventure         TriStar Pictures   \n",
       "\n",
       "    production_country_name spoken_language_name  \n",
       "0  United States of America              English  \n",
       "1  United States of America              English  \n",
       "2  United States of America              English  \n",
       "3  United States of America              English  \n",
       "4  United States of America             Français  \n",
       "\n",
       "[5 rows x 24 columns]"
      ]
     },
     "execution_count": 54,
     "metadata": {},
     "output_type": "execute_result"
    }
   ],
   "source": [
    "df_movies_merged.head()\n"
   ]
  },
  {
   "cell_type": "code",
   "execution_count": 55,
   "metadata": {},
   "outputs": [
    {
     "data": {
      "text/plain": [
       "<bound method DataFrame.info of         adult    budget                              homepage      id  \\\n",
       "0       False  30000000  http://toystory.disney.com/toy-story     862   \n",
       "1       False  30000000  http://toystory.disney.com/toy-story     862   \n",
       "2       False  30000000  http://toystory.disney.com/toy-story     862   \n",
       "3       False  65000000                                   NaN    8844   \n",
       "4       False  65000000                                   NaN    8844   \n",
       "...       ...       ...                                   ...     ...   \n",
       "419774  False         0                                   NaN   67758   \n",
       "419775  False         0                                   NaN   67758   \n",
       "419776  False         0                                   NaN   67758   \n",
       "419777  False         0                                   NaN  227506   \n",
       "419778  False         0                                   NaN  461257   \n",
       "\n",
       "          imdb_id original_language       original_title  \\\n",
       "0       tt0114709                en            Toy Story   \n",
       "1       tt0114709                en            Toy Story   \n",
       "2       tt0114709                en            Toy Story   \n",
       "3       tt0113497                en              Jumanji   \n",
       "4       tt0113497                en              Jumanji   \n",
       "...           ...               ...                  ...   \n",
       "419774  tt0303758                en             Betrayal   \n",
       "419775  tt0303758                en             Betrayal   \n",
       "419776  tt0303758                en             Betrayal   \n",
       "419777  tt0008536                en  Satana likuyushchiy   \n",
       "419778  tt6980792                en             Queerama   \n",
       "\n",
       "                                                 overview popularity  \\\n",
       "0       Led by Woody, Andy's toys live happily in his ...  21.946943   \n",
       "1       Led by Woody, Andy's toys live happily in his ...  21.946943   \n",
       "2       Led by Woody, Andy's toys live happily in his ...  21.946943   \n",
       "3       When siblings Judy and Peter discover an encha...  17.015539   \n",
       "4       When siblings Judy and Peter discover an encha...  17.015539   \n",
       "...                                                   ...        ...   \n",
       "419774  When one of her hits goes wrong, a professiona...   0.903007   \n",
       "419775  When one of her hits goes wrong, a professiona...   0.903007   \n",
       "419776  When one of her hits goes wrong, a professiona...   0.903007   \n",
       "419777  In a small town live two brothers, one a minis...   0.003503   \n",
       "419778  50 years after decriminalisation of homosexual...   0.163015   \n",
       "\n",
       "                             poster_path  ...  \\\n",
       "0       /rhIRbceoE9lR4veEXuwCC2wARtG.jpg  ...   \n",
       "1       /rhIRbceoE9lR4veEXuwCC2wARtG.jpg  ...   \n",
       "2       /rhIRbceoE9lR4veEXuwCC2wARtG.jpg  ...   \n",
       "3       /vzmL6fP7aPKNKPRTFnZmiUfciyV.jpg  ...   \n",
       "4       /vzmL6fP7aPKNKPRTFnZmiUfciyV.jpg  ...   \n",
       "...                                  ...  ...   \n",
       "419774  /d5bX92nDsISNhu3ZT69uHwmfCGw.jpg  ...   \n",
       "419775  /d5bX92nDsISNhu3ZT69uHwmfCGw.jpg  ...   \n",
       "419776  /d5bX92nDsISNhu3ZT69uHwmfCGw.jpg  ...   \n",
       "419777  /aorBPO7ak8e8iJKT5OcqYxU3jlK.jpg  ...   \n",
       "419778  /s5UkZt6NTsrS7ZF0Rh8nzupRlIU.jpg  ...   \n",
       "\n",
       "                                          tagline             title  video  \\\n",
       "0                                             NaN         Toy Story  False   \n",
       "1                                             NaN         Toy Story  False   \n",
       "2                                             NaN         Toy Story  False   \n",
       "3       Roll the dice and unleash the excitement!           Jumanji  False   \n",
       "4       Roll the dice and unleash the excitement!           Jumanji  False   \n",
       "...                                           ...               ...    ...   \n",
       "419774                     A deadly game of wits.          Betrayal  False   \n",
       "419775                     A deadly game of wits.          Betrayal  False   \n",
       "419776                     A deadly game of wits.          Betrayal  False   \n",
       "419777                                        NaN  Satan Triumphant  False   \n",
       "419778                                        NaN          Queerama  False   \n",
       "\n",
       "       vote_average vote_count       collection_name genre_name  \\\n",
       "0               7.7     5415.0  Toy Story Collection  Animation   \n",
       "1               7.7     5415.0  Toy Story Collection     Comedy   \n",
       "2               7.7     5415.0  Toy Story Collection     Family   \n",
       "3               6.9     2413.0                   NaN  Adventure   \n",
       "4               6.9     2413.0                   NaN  Adventure   \n",
       "...             ...        ...                   ...        ...   \n",
       "419774          3.8        6.0                   NaN     Action   \n",
       "419775          3.8        6.0                   NaN      Drama   \n",
       "419776          3.8        6.0                   NaN   Thriller   \n",
       "419777          0.0        0.0                   NaN        NaN   \n",
       "419778          0.0        0.0                   NaN        NaN   \n",
       "\n",
       "        production_company_name   production_country_name spoken_language_name  \n",
       "0       Pixar Animation Studios  United States of America              English  \n",
       "1       Pixar Animation Studios  United States of America              English  \n",
       "2       Pixar Animation Studios  United States of America              English  \n",
       "3              TriStar Pictures  United States of America              English  \n",
       "4              TriStar Pictures  United States of America             Français  \n",
       "...                         ...                       ...                  ...  \n",
       "419774  American World Pictures  United States of America              English  \n",
       "419775  American World Pictures  United States of America              English  \n",
       "419776  American World Pictures  United States of America              English  \n",
       "419777                Yermoliev                    Russia                  NaN  \n",
       "419778                      NaN            United Kingdom              English  \n",
       "\n",
       "[419779 rows x 24 columns]>"
      ]
     },
     "execution_count": 55,
     "metadata": {},
     "output_type": "execute_result"
    }
   ],
   "source": [
    "df_movies_merged.info"
   ]
  },
  {
   "cell_type": "code",
   "execution_count": 56,
   "metadata": {},
   "outputs": [
    {
     "data": {
      "text/plain": [
       "(419779, 24)"
      ]
     },
     "execution_count": 56,
     "metadata": {},
     "output_type": "execute_result"
    }
   ],
   "source": [
    "df_movies_merged.shape"
   ]
  },
  {
   "cell_type": "code",
   "execution_count": 57,
   "metadata": {},
   "outputs": [
    {
     "data": {
      "text/plain": [
       "Index(['adult', 'budget', 'homepage', 'id', 'imdb_id', 'original_language',\n",
       "       'original_title', 'overview', 'popularity', 'poster_path',\n",
       "       'release_date', 'revenue', 'runtime', 'status', 'tagline', 'title',\n",
       "       'video', 'vote_average', 'vote_count', 'collection_name', 'genre_name',\n",
       "       'production_company_name', 'production_country_name',\n",
       "       'spoken_language_name'],\n",
       "      dtype='object')"
      ]
     },
     "execution_count": 57,
     "metadata": {},
     "output_type": "execute_result"
    }
   ],
   "source": [
    "df_movies_merged.columns"
   ]
  },
  {
   "cell_type": "code",
   "execution_count": 58,
   "metadata": {},
   "outputs": [
    {
     "data": {
      "text/plain": [
       "Index(['adult', 'budget', 'homepage', 'id', 'imdb_id', 'original_language',\n",
       "       'original_title', 'overview', 'popularity', 'poster_path',\n",
       "       'release_date', 'revenue', 'runtime', 'status', 'tagline', 'title',\n",
       "       'video', 'vote_average', 'vote_count', 'collection_name', 'genre_name',\n",
       "       'production_company_name', 'production_country_name',\n",
       "       'spoken_language_name'],\n",
       "      dtype='object')"
      ]
     },
     "execution_count": 58,
     "metadata": {},
     "output_type": "execute_result"
    }
   ],
   "source": [
    "df_movies_merged.columns"
   ]
  },
  {
   "cell_type": "code",
   "execution_count": 59,
   "metadata": {},
   "outputs": [
    {
     "data": {
      "text/plain": [
       "[{'id': 16, 'name': 'Animation'},\n",
       " {'id': 35, 'name': 'Comedy'},\n",
       " {'id': 10751, 'name': 'Family'}]"
      ]
     },
     "execution_count": 59,
     "metadata": {},
     "output_type": "execute_result"
    }
   ],
   "source": [
    "df_movies['genres'].iloc[0]"
   ]
  },
  {
   "cell_type": "code",
   "execution_count": 60,
   "metadata": {},
   "outputs": [
    {
     "data": {
      "text/plain": [
       "'Animation'"
      ]
     },
     "execution_count": 60,
     "metadata": {},
     "output_type": "execute_result"
    }
   ],
   "source": [
    "df_movies_merged['genre_name'].iloc[0]"
   ]
  },
  {
   "cell_type": "code",
   "execution_count": 61,
   "metadata": {},
   "outputs": [
    {
     "data": {
      "text/plain": [
       "'8844'"
      ]
     },
     "execution_count": 61,
     "metadata": {},
     "output_type": "execute_result"
    }
   ],
   "source": [
    "df_movies_merged['id'].iloc[3]"
   ]
  },
  {
   "cell_type": "markdown",
   "metadata": {},
   "source": [
    "Relleno los valores nulos en 'revenue' y 'budget' con 0\n"
   ]
  },
  {
   "cell_type": "code",
   "execution_count": 62,
   "metadata": {},
   "outputs": [],
   "source": [
    "df_movies_merged['revenue'] = df_movies_merged['revenue'].fillna(0)\n",
    "df_movies_merged['budget'] = df_movies_merged['budget'].fillna(0)"
   ]
  },
  {
   "cell_type": "markdown",
   "metadata": {},
   "source": [
    "Elimino las filas con valores nulos en 'release_date'"
   ]
  },
  {
   "cell_type": "code",
   "execution_count": 63,
   "metadata": {},
   "outputs": [],
   "source": [
    "df_movies_merged = df_movies_merged.dropna(subset=['release_date'])\n"
   ]
  },
  {
   "cell_type": "markdown",
   "metadata": {},
   "source": [
    "Formateo fechas y extraigo el año en una nueva columna. En la segunda linea elimino cualquier fila que no pudo ser convertida a fecha"
   ]
  },
  {
   "cell_type": "code",
   "execution_count": 64,
   "metadata": {},
   "outputs": [
    {
     "name": "stderr",
     "output_type": "stream",
     "text": [
      "C:\\Users\\elian\\AppData\\Local\\Temp\\ipykernel_7360\\2435324582.py:1: SettingWithCopyWarning: \n",
      "A value is trying to be set on a copy of a slice from a DataFrame.\n",
      "Try using .loc[row_indexer,col_indexer] = value instead\n",
      "\n",
      "See the caveats in the documentation: https://pandas.pydata.org/pandas-docs/stable/user_guide/indexing.html#returning-a-view-versus-a-copy\n",
      "  df_movies_merged['release_date'] = pd.to_datetime(df_movies_merged['release_date'], format='%Y-%m-%d', errors='coerce')\n"
     ]
    }
   ],
   "source": [
    "df_movies_merged['release_date'] = pd.to_datetime(df_movies_merged['release_date'], format='%Y-%m-%d', errors='coerce')\n",
    "df_movies_merged = df_movies_merged.dropna(subset=['release_date'])\n",
    "df_movies_merged['release_year'] = df_movies_merged['release_date'].dt.year"
   ]
  },
  {
   "cell_type": "markdown",
   "metadata": {},
   "source": [
    "Primero convierto las columnas 'revenue' y 'budget' a valores numéricos"
   ]
  },
  {
   "cell_type": "code",
   "execution_count": 65,
   "metadata": {},
   "outputs": [],
   "source": [
    "df_movies_merged['revenue'] = pd.to_numeric(df_movies_merged['revenue'], errors='coerce')\n",
    "df_movies_merged['budget'] = pd.to_numeric(df_movies_merged['budget'], errors='coerce')\n"
   ]
  },
  {
   "cell_type": "markdown",
   "metadata": {},
   "source": [
    "Creo la columna 'return' y calculo el retorno de inversión"
   ]
  },
  {
   "cell_type": "code",
   "execution_count": 66,
   "metadata": {},
   "outputs": [],
   "source": [
    "df_movies_merged['return'] = df_movies_merged.apply(lambda row: row['revenue'] / row['budget'] if row['budget'] > 0 else 0, axis=1)\n"
   ]
  },
  {
   "cell_type": "code",
   "execution_count": 67,
   "metadata": {},
   "outputs": [
    {
     "data": {
      "text/html": [
       "<div>\n",
       "<style scoped>\n",
       "    .dataframe tbody tr th:only-of-type {\n",
       "        vertical-align: middle;\n",
       "    }\n",
       "\n",
       "    .dataframe tbody tr th {\n",
       "        vertical-align: top;\n",
       "    }\n",
       "\n",
       "    .dataframe thead th {\n",
       "        text-align: right;\n",
       "    }\n",
       "</style>\n",
       "<table border=\"1\" class=\"dataframe\">\n",
       "  <thead>\n",
       "    <tr style=\"text-align: right;\">\n",
       "      <th></th>\n",
       "      <th>adult</th>\n",
       "      <th>budget</th>\n",
       "      <th>homepage</th>\n",
       "      <th>id</th>\n",
       "      <th>imdb_id</th>\n",
       "      <th>original_language</th>\n",
       "      <th>original_title</th>\n",
       "      <th>overview</th>\n",
       "      <th>popularity</th>\n",
       "      <th>poster_path</th>\n",
       "      <th>...</th>\n",
       "      <th>video</th>\n",
       "      <th>vote_average</th>\n",
       "      <th>vote_count</th>\n",
       "      <th>collection_name</th>\n",
       "      <th>genre_name</th>\n",
       "      <th>production_company_name</th>\n",
       "      <th>production_country_name</th>\n",
       "      <th>spoken_language_name</th>\n",
       "      <th>release_year</th>\n",
       "      <th>return</th>\n",
       "    </tr>\n",
       "  </thead>\n",
       "  <tbody>\n",
       "    <tr>\n",
       "      <th>0</th>\n",
       "      <td>False</td>\n",
       "      <td>30000000</td>\n",
       "      <td>http://toystory.disney.com/toy-story</td>\n",
       "      <td>862</td>\n",
       "      <td>tt0114709</td>\n",
       "      <td>en</td>\n",
       "      <td>Toy Story</td>\n",
       "      <td>Led by Woody, Andy's toys live happily in his ...</td>\n",
       "      <td>21.946943</td>\n",
       "      <td>/rhIRbceoE9lR4veEXuwCC2wARtG.jpg</td>\n",
       "      <td>...</td>\n",
       "      <td>False</td>\n",
       "      <td>7.7</td>\n",
       "      <td>5415.0</td>\n",
       "      <td>Toy Story Collection</td>\n",
       "      <td>Animation</td>\n",
       "      <td>Pixar Animation Studios</td>\n",
       "      <td>United States of America</td>\n",
       "      <td>English</td>\n",
       "      <td>1995</td>\n",
       "      <td>12.451801</td>\n",
       "    </tr>\n",
       "    <tr>\n",
       "      <th>1</th>\n",
       "      <td>False</td>\n",
       "      <td>30000000</td>\n",
       "      <td>http://toystory.disney.com/toy-story</td>\n",
       "      <td>862</td>\n",
       "      <td>tt0114709</td>\n",
       "      <td>en</td>\n",
       "      <td>Toy Story</td>\n",
       "      <td>Led by Woody, Andy's toys live happily in his ...</td>\n",
       "      <td>21.946943</td>\n",
       "      <td>/rhIRbceoE9lR4veEXuwCC2wARtG.jpg</td>\n",
       "      <td>...</td>\n",
       "      <td>False</td>\n",
       "      <td>7.7</td>\n",
       "      <td>5415.0</td>\n",
       "      <td>Toy Story Collection</td>\n",
       "      <td>Comedy</td>\n",
       "      <td>Pixar Animation Studios</td>\n",
       "      <td>United States of America</td>\n",
       "      <td>English</td>\n",
       "      <td>1995</td>\n",
       "      <td>12.451801</td>\n",
       "    </tr>\n",
       "    <tr>\n",
       "      <th>2</th>\n",
       "      <td>False</td>\n",
       "      <td>30000000</td>\n",
       "      <td>http://toystory.disney.com/toy-story</td>\n",
       "      <td>862</td>\n",
       "      <td>tt0114709</td>\n",
       "      <td>en</td>\n",
       "      <td>Toy Story</td>\n",
       "      <td>Led by Woody, Andy's toys live happily in his ...</td>\n",
       "      <td>21.946943</td>\n",
       "      <td>/rhIRbceoE9lR4veEXuwCC2wARtG.jpg</td>\n",
       "      <td>...</td>\n",
       "      <td>False</td>\n",
       "      <td>7.7</td>\n",
       "      <td>5415.0</td>\n",
       "      <td>Toy Story Collection</td>\n",
       "      <td>Family</td>\n",
       "      <td>Pixar Animation Studios</td>\n",
       "      <td>United States of America</td>\n",
       "      <td>English</td>\n",
       "      <td>1995</td>\n",
       "      <td>12.451801</td>\n",
       "    </tr>\n",
       "    <tr>\n",
       "      <th>3</th>\n",
       "      <td>False</td>\n",
       "      <td>65000000</td>\n",
       "      <td>NaN</td>\n",
       "      <td>8844</td>\n",
       "      <td>tt0113497</td>\n",
       "      <td>en</td>\n",
       "      <td>Jumanji</td>\n",
       "      <td>When siblings Judy and Peter discover an encha...</td>\n",
       "      <td>17.015539</td>\n",
       "      <td>/vzmL6fP7aPKNKPRTFnZmiUfciyV.jpg</td>\n",
       "      <td>...</td>\n",
       "      <td>False</td>\n",
       "      <td>6.9</td>\n",
       "      <td>2413.0</td>\n",
       "      <td>NaN</td>\n",
       "      <td>Adventure</td>\n",
       "      <td>TriStar Pictures</td>\n",
       "      <td>United States of America</td>\n",
       "      <td>English</td>\n",
       "      <td>1995</td>\n",
       "      <td>4.043035</td>\n",
       "    </tr>\n",
       "    <tr>\n",
       "      <th>4</th>\n",
       "      <td>False</td>\n",
       "      <td>65000000</td>\n",
       "      <td>NaN</td>\n",
       "      <td>8844</td>\n",
       "      <td>tt0113497</td>\n",
       "      <td>en</td>\n",
       "      <td>Jumanji</td>\n",
       "      <td>When siblings Judy and Peter discover an encha...</td>\n",
       "      <td>17.015539</td>\n",
       "      <td>/vzmL6fP7aPKNKPRTFnZmiUfciyV.jpg</td>\n",
       "      <td>...</td>\n",
       "      <td>False</td>\n",
       "      <td>6.9</td>\n",
       "      <td>2413.0</td>\n",
       "      <td>NaN</td>\n",
       "      <td>Adventure</td>\n",
       "      <td>TriStar Pictures</td>\n",
       "      <td>United States of America</td>\n",
       "      <td>Français</td>\n",
       "      <td>1995</td>\n",
       "      <td>4.043035</td>\n",
       "    </tr>\n",
       "  </tbody>\n",
       "</table>\n",
       "<p>5 rows × 26 columns</p>\n",
       "</div>"
      ],
      "text/plain": [
       "   adult    budget                              homepage    id    imdb_id  \\\n",
       "0  False  30000000  http://toystory.disney.com/toy-story   862  tt0114709   \n",
       "1  False  30000000  http://toystory.disney.com/toy-story   862  tt0114709   \n",
       "2  False  30000000  http://toystory.disney.com/toy-story   862  tt0114709   \n",
       "3  False  65000000                                   NaN  8844  tt0113497   \n",
       "4  False  65000000                                   NaN  8844  tt0113497   \n",
       "\n",
       "  original_language original_title  \\\n",
       "0                en      Toy Story   \n",
       "1                en      Toy Story   \n",
       "2                en      Toy Story   \n",
       "3                en        Jumanji   \n",
       "4                en        Jumanji   \n",
       "\n",
       "                                            overview popularity  \\\n",
       "0  Led by Woody, Andy's toys live happily in his ...  21.946943   \n",
       "1  Led by Woody, Andy's toys live happily in his ...  21.946943   \n",
       "2  Led by Woody, Andy's toys live happily in his ...  21.946943   \n",
       "3  When siblings Judy and Peter discover an encha...  17.015539   \n",
       "4  When siblings Judy and Peter discover an encha...  17.015539   \n",
       "\n",
       "                        poster_path  ...  video  vote_average  vote_count  \\\n",
       "0  /rhIRbceoE9lR4veEXuwCC2wARtG.jpg  ...  False           7.7      5415.0   \n",
       "1  /rhIRbceoE9lR4veEXuwCC2wARtG.jpg  ...  False           7.7      5415.0   \n",
       "2  /rhIRbceoE9lR4veEXuwCC2wARtG.jpg  ...  False           7.7      5415.0   \n",
       "3  /vzmL6fP7aPKNKPRTFnZmiUfciyV.jpg  ...  False           6.9      2413.0   \n",
       "4  /vzmL6fP7aPKNKPRTFnZmiUfciyV.jpg  ...  False           6.9      2413.0   \n",
       "\n",
       "        collection_name genre_name  production_company_name  \\\n",
       "0  Toy Story Collection  Animation  Pixar Animation Studios   \n",
       "1  Toy Story Collection     Comedy  Pixar Animation Studios   \n",
       "2  Toy Story Collection     Family  Pixar Animation Studios   \n",
       "3                   NaN  Adventure         TriStar Pictures   \n",
       "4                   NaN  Adventure         TriStar Pictures   \n",
       "\n",
       "    production_country_name  spoken_language_name  release_year     return  \n",
       "0  United States of America               English          1995  12.451801  \n",
       "1  United States of America               English          1995  12.451801  \n",
       "2  United States of America               English          1995  12.451801  \n",
       "3  United States of America               English          1995   4.043035  \n",
       "4  United States of America              Français          1995   4.043035  \n",
       "\n",
       "[5 rows x 26 columns]"
      ]
     },
     "execution_count": 67,
     "metadata": {},
     "output_type": "execute_result"
    }
   ],
   "source": [
    "df_movies_merged.head()"
   ]
  },
  {
   "cell_type": "markdown",
   "metadata": {},
   "source": [
    "Elimino las columnas innecesarias"
   ]
  },
  {
   "cell_type": "code",
   "execution_count": 68,
   "metadata": {},
   "outputs": [],
   "source": [
    "df_movies_merged = df_movies_merged.drop(columns=['video', 'imdb_id', 'adult', 'original_title', 'poster_path', 'homepage'])"
   ]
  },
  {
   "cell_type": "code",
   "execution_count": 77,
   "metadata": {},
   "outputs": [
    {
     "data": {
      "text/plain": [
       "Index(['budget', 'id', 'original_language', 'overview', 'popularity',\n",
       "       'release_date', 'revenue', 'runtime', 'status', 'tagline', 'title',\n",
       "       'vote_average', 'vote_count', 'collection_name', 'genre_name',\n",
       "       'production_company_name', 'production_country_name',\n",
       "       'spoken_language_name', 'release_year', 'return'],\n",
       "      dtype='object')"
      ]
     },
     "execution_count": 77,
     "metadata": {},
     "output_type": "execute_result"
    }
   ],
   "source": [
    "df_movies_merged.columns"
   ]
  },
  {
   "cell_type": "code",
   "execution_count": 78,
   "metadata": {},
   "outputs": [
    {
     "data": {
      "text/plain": [
       "budget                     0\n",
       "id                         0\n",
       "original_language          0\n",
       "overview                   0\n",
       "popularity                 0\n",
       "release_date               0\n",
       "revenue                    0\n",
       "runtime                    0\n",
       "status                     0\n",
       "tagline                    0\n",
       "title                      0\n",
       "vote_average               0\n",
       "vote_count                 0\n",
       "collection_name            0\n",
       "genre_name                 0\n",
       "production_company_name    0\n",
       "production_country_name    0\n",
       "spoken_language_name       0\n",
       "release_year               0\n",
       "return                     0\n",
       "dtype: int64"
      ]
     },
     "execution_count": 78,
     "metadata": {},
     "output_type": "execute_result"
    }
   ],
   "source": [
    "df_movies_merged.isna().sum()"
   ]
  },
  {
   "cell_type": "code",
   "execution_count": 79,
   "metadata": {},
   "outputs": [
    {
     "data": {
      "text/plain": [
       "(36975, 20)"
      ]
     },
     "execution_count": 79,
     "metadata": {},
     "output_type": "execute_result"
    }
   ],
   "source": [
    "df_movies_merged.dropna(inplace=True)\n",
    "df_movies_merged.shape"
   ]
  },
  {
   "cell_type": "code",
   "execution_count": 80,
   "metadata": {},
   "outputs": [
    {
     "data": {
      "text/plain": [
       "(36975, 20)"
      ]
     },
     "execution_count": 80,
     "metadata": {},
     "output_type": "execute_result"
    }
   ],
   "source": [
    "df_movies_merged.shape"
   ]
  },
  {
   "cell_type": "markdown",
   "metadata": {},
   "source": [
    "Convierto Columnas a Tipos Numéricos"
   ]
  },
  {
   "cell_type": "code",
   "execution_count": 82,
   "metadata": {},
   "outputs": [],
   "source": [
    "df_movies_merged['popularity'] = pd.to_numeric(df_movies_merged['popularity'], errors='coerce')"
   ]
  },
  {
   "cell_type": "code",
   "execution_count": 83,
   "metadata": {},
   "outputs": [
    {
     "name": "stdout",
     "output_type": "stream",
     "text": [
      "0\n"
     ]
    }
   ],
   "source": [
    "print(df_movies_merged['popularity'].isnull().sum())"
   ]
  },
  {
   "cell_type": "markdown",
   "metadata": {},
   "source": [
    "Guardo el dataframe transformado"
   ]
  },
  {
   "cell_type": "code",
   "execution_count": 86,
   "metadata": {},
   "outputs": [],
   "source": [
    "# Exporto en archivo Parquet\n",
    "df_movies_merged.to_parquet('../data/procesado/movies_pilabs.parquet', engine='pyarrow')"
   ]
  }
 ],
 "metadata": {
  "kernelspec": {
   "display_name": "pilabs",
   "language": "python",
   "name": "python3"
  },
  "language_info": {
   "codemirror_mode": {
    "name": "ipython",
    "version": 3
   },
   "file_extension": ".py",
   "mimetype": "text/x-python",
   "name": "python",
   "nbconvert_exporter": "python",
   "pygments_lexer": "ipython3",
   "version": "3.11.9"
  }
 },
 "nbformat": 4,
 "nbformat_minor": 2
}
