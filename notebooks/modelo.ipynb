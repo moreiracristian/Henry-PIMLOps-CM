{
 "cells": [
  {
   "cell_type": "code",
   "execution_count": 87,
   "metadata": {},
   "outputs": [],
   "source": [
    "import pandas as pd\n",
    "from sklearn.preprocessing import OneHotEncoder\n",
    "from sklearn.neighbors import NearestNeighbors"
   ]
  },
  {
   "cell_type": "code",
   "execution_count": 84,
   "metadata": {},
   "outputs": [],
   "source": [
    "df_credits = pd.read_parquet('../data/procesado/credits_pilabs.parquet')\n",
    "df_movies = pd.read_parquet('../data/procesado/movies_pilabs.parquet')"
   ]
  },
  {
   "cell_type": "code",
   "execution_count": 85,
   "metadata": {},
   "outputs": [
    {
     "data": {
      "text/html": [
       "<div>\n",
       "<style scoped>\n",
       "    .dataframe tbody tr th:only-of-type {\n",
       "        vertical-align: middle;\n",
       "    }\n",
       "\n",
       "    .dataframe tbody tr th {\n",
       "        vertical-align: top;\n",
       "    }\n",
       "\n",
       "    .dataframe thead th {\n",
       "        text-align: right;\n",
       "    }\n",
       "</style>\n",
       "<table border=\"1\" class=\"dataframe\">\n",
       "  <thead>\n",
       "    <tr style=\"text-align: right;\">\n",
       "      <th></th>\n",
       "      <th>id</th>\n",
       "      <th>actor</th>\n",
       "      <th>department</th>\n",
       "      <th>job</th>\n",
       "      <th>director</th>\n",
       "    </tr>\n",
       "  </thead>\n",
       "  <tbody>\n",
       "    <tr>\n",
       "      <th>0</th>\n",
       "      <td>862</td>\n",
       "      <td>Tom Hanks</td>\n",
       "      <td>Directing</td>\n",
       "      <td>Director</td>\n",
       "      <td>John Lasseter</td>\n",
       "    </tr>\n",
       "    <tr>\n",
       "      <th>1</th>\n",
       "      <td>862</td>\n",
       "      <td>Tom Hanks</td>\n",
       "      <td>Writing</td>\n",
       "      <td>Screenplay</td>\n",
       "      <td>Joss Whedon</td>\n",
       "    </tr>\n",
       "    <tr>\n",
       "      <th>2</th>\n",
       "      <td>862</td>\n",
       "      <td>Tom Hanks</td>\n",
       "      <td>Writing</td>\n",
       "      <td>Screenplay</td>\n",
       "      <td>Andrew Stanton</td>\n",
       "    </tr>\n",
       "    <tr>\n",
       "      <th>3</th>\n",
       "      <td>862</td>\n",
       "      <td>Tom Hanks</td>\n",
       "      <td>Writing</td>\n",
       "      <td>Screenplay</td>\n",
       "      <td>Joel Cohen</td>\n",
       "    </tr>\n",
       "    <tr>\n",
       "      <th>4</th>\n",
       "      <td>862</td>\n",
       "      <td>Tom Hanks</td>\n",
       "      <td>Writing</td>\n",
       "      <td>Screenplay</td>\n",
       "      <td>Alec Sokolow</td>\n",
       "    </tr>\n",
       "  </tbody>\n",
       "</table>\n",
       "</div>"
      ],
      "text/plain": [
       "    id      actor department         job        director\n",
       "0  862  Tom Hanks  Directing    Director   John Lasseter\n",
       "1  862  Tom Hanks    Writing  Screenplay     Joss Whedon\n",
       "2  862  Tom Hanks    Writing  Screenplay  Andrew Stanton\n",
       "3  862  Tom Hanks    Writing  Screenplay      Joel Cohen\n",
       "4  862  Tom Hanks    Writing  Screenplay    Alec Sokolow"
      ]
     },
     "execution_count": 85,
     "metadata": {},
     "output_type": "execute_result"
    }
   ],
   "source": [
    "df_credits.head()"
   ]
  },
  {
   "cell_type": "code",
   "execution_count": 80,
   "metadata": {},
   "outputs": [
    {
     "data": {
      "text/plain": [
       "(9450206, 5)"
      ]
     },
     "execution_count": 80,
     "metadata": {},
     "output_type": "execute_result"
    }
   ],
   "source": [
    "df_credits.shape"
   ]
  },
  {
   "cell_type": "code",
   "execution_count": 93,
   "metadata": {},
   "outputs": [
    {
     "data": {
      "text/plain": [
       "Index(['id', 'actor', 'department', 'job', 'director'], dtype='object')"
      ]
     },
     "execution_count": 93,
     "metadata": {},
     "output_type": "execute_result"
    }
   ],
   "source": [
    "df_credits.columns"
   ]
  },
  {
   "cell_type": "code",
   "execution_count": 91,
   "metadata": {},
   "outputs": [
    {
     "data": {
      "text/html": [
       "<div>\n",
       "<style scoped>\n",
       "    .dataframe tbody tr th:only-of-type {\n",
       "        vertical-align: middle;\n",
       "    }\n",
       "\n",
       "    .dataframe tbody tr th {\n",
       "        vertical-align: top;\n",
       "    }\n",
       "\n",
       "    .dataframe thead th {\n",
       "        text-align: right;\n",
       "    }\n",
       "</style>\n",
       "<table border=\"1\" class=\"dataframe\">\n",
       "  <thead>\n",
       "    <tr style=\"text-align: right;\">\n",
       "      <th></th>\n",
       "      <th>budget</th>\n",
       "      <th>id</th>\n",
       "      <th>original_language</th>\n",
       "      <th>overview</th>\n",
       "      <th>popularity</th>\n",
       "      <th>release_date</th>\n",
       "      <th>revenue</th>\n",
       "      <th>runtime</th>\n",
       "      <th>status</th>\n",
       "      <th>tagline</th>\n",
       "      <th>title</th>\n",
       "      <th>vote_average</th>\n",
       "      <th>vote_count</th>\n",
       "      <th>collection_name</th>\n",
       "      <th>genre_name</th>\n",
       "      <th>production_company_name</th>\n",
       "      <th>production_country_name</th>\n",
       "      <th>spoken_language_name</th>\n",
       "      <th>release_year</th>\n",
       "      <th>return</th>\n",
       "    </tr>\n",
       "  </thead>\n",
       "  <tbody>\n",
       "    <tr>\n",
       "      <th>21</th>\n",
       "      <td>0</td>\n",
       "      <td>15602</td>\n",
       "      <td>en</td>\n",
       "      <td>A family wedding reignites the ancient feud be...</td>\n",
       "      <td>11.712900</td>\n",
       "      <td>1995-12-22</td>\n",
       "      <td>0.0</td>\n",
       "      <td>101.0</td>\n",
       "      <td>Released</td>\n",
       "      <td>Still Yelling. Still Fighting. Still Ready for...</td>\n",
       "      <td>Grumpier Old Men</td>\n",
       "      <td>6.5</td>\n",
       "      <td>92.0</td>\n",
       "      <td>Grumpy Old Men Collection</td>\n",
       "      <td>Romance</td>\n",
       "      <td>Warner Bros.</td>\n",
       "      <td>United States of America</td>\n",
       "      <td>English</td>\n",
       "      <td>1995</td>\n",
       "      <td>0.0</td>\n",
       "    </tr>\n",
       "    <tr>\n",
       "      <th>22</th>\n",
       "      <td>0</td>\n",
       "      <td>15602</td>\n",
       "      <td>en</td>\n",
       "      <td>A family wedding reignites the ancient feud be...</td>\n",
       "      <td>11.712900</td>\n",
       "      <td>1995-12-22</td>\n",
       "      <td>0.0</td>\n",
       "      <td>101.0</td>\n",
       "      <td>Released</td>\n",
       "      <td>Still Yelling. Still Fighting. Still Ready for...</td>\n",
       "      <td>Grumpier Old Men</td>\n",
       "      <td>6.5</td>\n",
       "      <td>92.0</td>\n",
       "      <td>Grumpy Old Men Collection</td>\n",
       "      <td>Romance</td>\n",
       "      <td>Lancaster Gate</td>\n",
       "      <td>United States of America</td>\n",
       "      <td>English</td>\n",
       "      <td>1995</td>\n",
       "      <td>0.0</td>\n",
       "    </tr>\n",
       "    <tr>\n",
       "      <th>23</th>\n",
       "      <td>0</td>\n",
       "      <td>15602</td>\n",
       "      <td>en</td>\n",
       "      <td>A family wedding reignites the ancient feud be...</td>\n",
       "      <td>11.712900</td>\n",
       "      <td>1995-12-22</td>\n",
       "      <td>0.0</td>\n",
       "      <td>101.0</td>\n",
       "      <td>Released</td>\n",
       "      <td>Still Yelling. Still Fighting. Still Ready for...</td>\n",
       "      <td>Grumpier Old Men</td>\n",
       "      <td>6.5</td>\n",
       "      <td>92.0</td>\n",
       "      <td>Grumpy Old Men Collection</td>\n",
       "      <td>Comedy</td>\n",
       "      <td>Warner Bros.</td>\n",
       "      <td>United States of America</td>\n",
       "      <td>English</td>\n",
       "      <td>1995</td>\n",
       "      <td>0.0</td>\n",
       "    </tr>\n",
       "    <tr>\n",
       "      <th>24</th>\n",
       "      <td>0</td>\n",
       "      <td>15602</td>\n",
       "      <td>en</td>\n",
       "      <td>A family wedding reignites the ancient feud be...</td>\n",
       "      <td>11.712900</td>\n",
       "      <td>1995-12-22</td>\n",
       "      <td>0.0</td>\n",
       "      <td>101.0</td>\n",
       "      <td>Released</td>\n",
       "      <td>Still Yelling. Still Fighting. Still Ready for...</td>\n",
       "      <td>Grumpier Old Men</td>\n",
       "      <td>6.5</td>\n",
       "      <td>92.0</td>\n",
       "      <td>Grumpy Old Men Collection</td>\n",
       "      <td>Comedy</td>\n",
       "      <td>Lancaster Gate</td>\n",
       "      <td>United States of America</td>\n",
       "      <td>English</td>\n",
       "      <td>1995</td>\n",
       "      <td>0.0</td>\n",
       "    </tr>\n",
       "    <tr>\n",
       "      <th>28</th>\n",
       "      <td>0</td>\n",
       "      <td>11862</td>\n",
       "      <td>en</td>\n",
       "      <td>Just when George Banks has recovered from his ...</td>\n",
       "      <td>8.387519</td>\n",
       "      <td>1995-02-10</td>\n",
       "      <td>76578911.0</td>\n",
       "      <td>106.0</td>\n",
       "      <td>Released</td>\n",
       "      <td>Just When His World Is Back To Normal... He's ...</td>\n",
       "      <td>Father of the Bride Part II</td>\n",
       "      <td>5.7</td>\n",
       "      <td>173.0</td>\n",
       "      <td>Father of the Bride Collection</td>\n",
       "      <td>Comedy</td>\n",
       "      <td>Sandollar Productions</td>\n",
       "      <td>United States of America</td>\n",
       "      <td>English</td>\n",
       "      <td>1995</td>\n",
       "      <td>0.0</td>\n",
       "    </tr>\n",
       "  </tbody>\n",
       "</table>\n",
       "</div>"
      ],
      "text/plain": [
       "    budget     id original_language  \\\n",
       "21       0  15602                en   \n",
       "22       0  15602                en   \n",
       "23       0  15602                en   \n",
       "24       0  15602                en   \n",
       "28       0  11862                en   \n",
       "\n",
       "                                             overview  popularity  \\\n",
       "21  A family wedding reignites the ancient feud be...   11.712900   \n",
       "22  A family wedding reignites the ancient feud be...   11.712900   \n",
       "23  A family wedding reignites the ancient feud be...   11.712900   \n",
       "24  A family wedding reignites the ancient feud be...   11.712900   \n",
       "28  Just when George Banks has recovered from his ...    8.387519   \n",
       "\n",
       "   release_date     revenue  runtime    status  \\\n",
       "21   1995-12-22         0.0    101.0  Released   \n",
       "22   1995-12-22         0.0    101.0  Released   \n",
       "23   1995-12-22         0.0    101.0  Released   \n",
       "24   1995-12-22         0.0    101.0  Released   \n",
       "28   1995-02-10  76578911.0    106.0  Released   \n",
       "\n",
       "                                              tagline  \\\n",
       "21  Still Yelling. Still Fighting. Still Ready for...   \n",
       "22  Still Yelling. Still Fighting. Still Ready for...   \n",
       "23  Still Yelling. Still Fighting. Still Ready for...   \n",
       "24  Still Yelling. Still Fighting. Still Ready for...   \n",
       "28  Just When His World Is Back To Normal... He's ...   \n",
       "\n",
       "                          title  vote_average  vote_count  \\\n",
       "21             Grumpier Old Men           6.5        92.0   \n",
       "22             Grumpier Old Men           6.5        92.0   \n",
       "23             Grumpier Old Men           6.5        92.0   \n",
       "24             Grumpier Old Men           6.5        92.0   \n",
       "28  Father of the Bride Part II           5.7       173.0   \n",
       "\n",
       "                   collection_name genre_name production_company_name  \\\n",
       "21       Grumpy Old Men Collection    Romance            Warner Bros.   \n",
       "22       Grumpy Old Men Collection    Romance          Lancaster Gate   \n",
       "23       Grumpy Old Men Collection     Comedy            Warner Bros.   \n",
       "24       Grumpy Old Men Collection     Comedy          Lancaster Gate   \n",
       "28  Father of the Bride Collection     Comedy   Sandollar Productions   \n",
       "\n",
       "     production_country_name spoken_language_name  release_year  return  \n",
       "21  United States of America              English          1995     0.0  \n",
       "22  United States of America              English          1995     0.0  \n",
       "23  United States of America              English          1995     0.0  \n",
       "24  United States of America              English          1995     0.0  \n",
       "28  United States of America              English          1995     0.0  "
      ]
     },
     "execution_count": 91,
     "metadata": {},
     "output_type": "execute_result"
    }
   ],
   "source": [
    "df_movies.head()"
   ]
  },
  {
   "cell_type": "code",
   "execution_count": 92,
   "metadata": {},
   "outputs": [
    {
     "data": {
      "text/plain": [
       "(36975, 20)"
      ]
     },
     "execution_count": 92,
     "metadata": {},
     "output_type": "execute_result"
    }
   ],
   "source": [
    "df_movies.shape"
   ]
  },
  {
   "cell_type": "code",
   "execution_count": 97,
   "metadata": {},
   "outputs": [
    {
     "data": {
      "text/plain": [
       "Index(['budget', 'id', 'original_language', 'overview', 'popularity',\n",
       "       'release_date', 'revenue', 'runtime', 'status', 'tagline', 'title',\n",
       "       'vote_average', 'vote_count', 'collection_name', 'genre_name',\n",
       "       'production_company_name', 'production_country_name',\n",
       "       'spoken_language_name', 'release_year', 'return'],\n",
       "      dtype='object')"
      ]
     },
     "execution_count": 97,
     "metadata": {},
     "output_type": "execute_result"
    }
   ],
   "source": [
    "df_movies.columns"
   ]
  },
  {
   "cell_type": "markdown",
   "metadata": {},
   "source": [
    "# Sistema de recomendacion"
   ]
  },
  {
   "cell_type": "code",
   "execution_count": 100,
   "metadata": {},
   "outputs": [],
   "source": [
    "from sklearn.preprocessing import OneHotEncoder\n",
    "\n",
    "# Extraje la columna de géneros\n",
    "genres = df_movies['genre_name']\n",
    "\n",
    "# Creo una instancia del OneHotEncoder\n",
    "encoder = OneHotEncoder()\n",
    "\n",
    "# Ajusto y transformo la columna de géneros\n",
    "genres_encoded = encoder.fit_transform(genres.values.reshape(-1, 1))\n",
    "\n",
    "# Convierto a array para utilizarlo en el algoritmo KNN\n",
    "genres_encoded_array = genres_encoded.toarray()"
   ]
  },
  {
   "cell_type": "code",
   "execution_count": 108,
   "metadata": {},
   "outputs": [
    {
     "name": "stdout",
     "output_type": "stream",
     "text": [
      "Películas recomendadas para The Godfather:\n",
      "1. F/X2\n",
      "2. Trancers II: The Return of Jack Deth\n",
      "3. F/X2\n",
      "4. Missing in Action\n",
      "5. Street Fighter II: The Animated Movie\n"
     ]
    }
   ],
   "source": [
    "from sklearn.neighbors import NearestNeighbors\n",
    "\n",
    "# Creo una instancia de la clase NearestNeighbors\n",
    "recommender = NearestNeighbors(metric='cosine')\n",
    "\n",
    "# Ajusto los géneros codificados al recomendador\n",
    "recommender.fit(genres_encoded_array)\n",
    "\n",
    "# Función para obtener recomendaciones\n",
    "def get_recommendations(movie_title, num_recommendations=5):\n",
    "    try:\n",
    "        # Busca el índice de la película\n",
    "        movie_index = df_movies[df_movies['title'] == movie_title].index[0]\n",
    "    except IndexError:\n",
    "        return f\"Error: La película '{movie_title}' no se encontró en nuestra base de datos.\"\n",
    "\n",
    "    # Obtiene recomendaciones\n",
    "    distances, indices = recommender.kneighbors(genres_encoded_array[movie_index].reshape(1, -1), n_neighbors=num_recommendations+1)\n",
    "\n",
    "    # Excluye la película de entrada de las recomendaciones\n",
    "    recommended_indices = indices.flatten()[1:]\n",
    "\n",
    "    # Extrae los títulos de las películas recomendadas\n",
    "    recommended_movie_titles = df_movies.iloc[recommended_indices]['title'].values\n",
    "\n",
    "    return recommended_movie_titles\n",
    "\n",
    "# Prueba la función de recomendaciones\n",
    "movie_title = 'The Godfather'  # Reemplazar con el título de la película que el usuario ha visto\n",
    "recommended_movies = get_recommendations(movie_title)\n",
    "\n",
    "if isinstance(recommended_movies, str):\n",
    "    print(recommended_movies)  # Imprimir el mensaje de error\n",
    "else:\n",
    "    print(f\"Películas recomendadas para {movie_title}:\")\n",
    "    for i, title in enumerate(recommended_movies, 1):\n",
    "        print(f\"{i}. {title}\")"
   ]
  }
 ],
 "metadata": {
  "kernelspec": {
   "display_name": "Python 3",
   "language": "python",
   "name": "python3"
  },
  "language_info": {
   "codemirror_mode": {
    "name": "ipython",
    "version": 3
   },
   "file_extension": ".py",
   "mimetype": "text/x-python",
   "name": "python",
   "nbconvert_exporter": "python",
   "pygments_lexer": "ipython3",
   "version": "3.11.9"
  }
 },
 "nbformat": 4,
 "nbformat_minor": 2
}
