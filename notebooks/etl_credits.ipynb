{
 "cells": [
  {
   "cell_type": "code",
   "execution_count": 33,
   "metadata": {},
   "outputs": [],
   "source": [
    "import pandas as pd\n",
    "import numpy as np"
   ]
  },
  {
   "cell_type": "code",
   "execution_count": 34,
   "metadata": {},
   "outputs": [],
   "source": [
    "df_credits = pd.read_csv('../data/crudo/credits.csv')"
   ]
  },
  {
   "cell_type": "code",
   "execution_count": 35,
   "metadata": {},
   "outputs": [
    {
     "data": {
      "text/plain": [
       "cast    object\n",
       "crew    object\n",
       "id       int64\n",
       "dtype: object"
      ]
     },
     "execution_count": 35,
     "metadata": {},
     "output_type": "execute_result"
    }
   ],
   "source": [
    "df_credits.dtypes"
   ]
  },
  {
   "cell_type": "code",
   "execution_count": 36,
   "metadata": {},
   "outputs": [
    {
     "data": {
      "text/html": [
       "<div>\n",
       "<style scoped>\n",
       "    .dataframe tbody tr th:only-of-type {\n",
       "        vertical-align: middle;\n",
       "    }\n",
       "\n",
       "    .dataframe tbody tr th {\n",
       "        vertical-align: top;\n",
       "    }\n",
       "\n",
       "    .dataframe thead th {\n",
       "        text-align: right;\n",
       "    }\n",
       "</style>\n",
       "<table border=\"1\" class=\"dataframe\">\n",
       "  <thead>\n",
       "    <tr style=\"text-align: right;\">\n",
       "      <th></th>\n",
       "      <th>cast</th>\n",
       "      <th>crew</th>\n",
       "      <th>id</th>\n",
       "    </tr>\n",
       "  </thead>\n",
       "  <tbody>\n",
       "    <tr>\n",
       "      <th>0</th>\n",
       "      <td>[{'cast_id': 14, 'character': 'Woody (voice)',...</td>\n",
       "      <td>[{'credit_id': '52fe4284c3a36847f8024f49', 'de...</td>\n",
       "      <td>862</td>\n",
       "    </tr>\n",
       "    <tr>\n",
       "      <th>1</th>\n",
       "      <td>[{'cast_id': 1, 'character': 'Alan Parrish', '...</td>\n",
       "      <td>[{'credit_id': '52fe44bfc3a36847f80a7cd1', 'de...</td>\n",
       "      <td>8844</td>\n",
       "    </tr>\n",
       "    <tr>\n",
       "      <th>2</th>\n",
       "      <td>[{'cast_id': 2, 'character': 'Max Goldman', 'c...</td>\n",
       "      <td>[{'credit_id': '52fe466a9251416c75077a89', 'de...</td>\n",
       "      <td>15602</td>\n",
       "    </tr>\n",
       "    <tr>\n",
       "      <th>3</th>\n",
       "      <td>[{'cast_id': 1, 'character': \"Savannah 'Vannah...</td>\n",
       "      <td>[{'credit_id': '52fe44779251416c91011acb', 'de...</td>\n",
       "      <td>31357</td>\n",
       "    </tr>\n",
       "    <tr>\n",
       "      <th>4</th>\n",
       "      <td>[{'cast_id': 1, 'character': 'George Banks', '...</td>\n",
       "      <td>[{'credit_id': '52fe44959251416c75039ed7', 'de...</td>\n",
       "      <td>11862</td>\n",
       "    </tr>\n",
       "  </tbody>\n",
       "</table>\n",
       "</div>"
      ],
      "text/plain": [
       "                                                cast  \\\n",
       "0  [{'cast_id': 14, 'character': 'Woody (voice)',...   \n",
       "1  [{'cast_id': 1, 'character': 'Alan Parrish', '...   \n",
       "2  [{'cast_id': 2, 'character': 'Max Goldman', 'c...   \n",
       "3  [{'cast_id': 1, 'character': \"Savannah 'Vannah...   \n",
       "4  [{'cast_id': 1, 'character': 'George Banks', '...   \n",
       "\n",
       "                                                crew     id  \n",
       "0  [{'credit_id': '52fe4284c3a36847f8024f49', 'de...    862  \n",
       "1  [{'credit_id': '52fe44bfc3a36847f80a7cd1', 'de...   8844  \n",
       "2  [{'credit_id': '52fe466a9251416c75077a89', 'de...  15602  \n",
       "3  [{'credit_id': '52fe44779251416c91011acb', 'de...  31357  \n",
       "4  [{'credit_id': '52fe44959251416c75039ed7', 'de...  11862  "
      ]
     },
     "execution_count": 36,
     "metadata": {},
     "output_type": "execute_result"
    }
   ],
   "source": [
    "df_credits.head()"
   ]
  },
  {
   "cell_type": "code",
   "execution_count": 37,
   "metadata": {},
   "outputs": [
    {
     "data": {
      "text/plain": [
       "Index(['cast', 'crew', 'id'], dtype='object')"
      ]
     },
     "execution_count": 37,
     "metadata": {},
     "output_type": "execute_result"
    }
   ],
   "source": [
    "df_credits.columns"
   ]
  },
  {
   "cell_type": "markdown",
   "metadata": {},
   "source": [
    "Función para desanidar la columna 'cast'"
   ]
  },
  {
   "cell_type": "code",
   "execution_count": 38,
   "metadata": {},
   "outputs": [],
   "source": [
    "import ast\n",
    "\n",
    "def extract_cast(data):\n",
    "    cast_list = []\n",
    "    for idx, row in data.iterrows():\n",
    "        cast = ast.literal_eval(row['cast'])\n",
    "        for c in cast:\n",
    "            cast_list.append({\n",
    "                'id': row['id'],\n",
    "                'cast_id': c.get('cast_id'),\n",
    "                'character': c.get('character'),\n",
    "                'credit_id': c.get('credit_id'),\n",
    "                'gender': c.get('gender'),\n",
    "                'name': c.get('name'),\n",
    "                'order': c.get('order')\n",
    "            })\n",
    "    return pd.DataFrame(cast_list)"
   ]
  },
  {
   "cell_type": "code",
   "execution_count": 39,
   "metadata": {},
   "outputs": [],
   "source": [
    "# Extraje la columna 'cast' en un DataFrame separado\n",
    "cast_df = extract_cast(df_credits)"
   ]
  },
  {
   "cell_type": "code",
   "execution_count": 40,
   "metadata": {},
   "outputs": [
    {
     "data": {
      "text/html": [
       "<div>\n",
       "<style scoped>\n",
       "    .dataframe tbody tr th:only-of-type {\n",
       "        vertical-align: middle;\n",
       "    }\n",
       "\n",
       "    .dataframe tbody tr th {\n",
       "        vertical-align: top;\n",
       "    }\n",
       "\n",
       "    .dataframe thead th {\n",
       "        text-align: right;\n",
       "    }\n",
       "</style>\n",
       "<table border=\"1\" class=\"dataframe\">\n",
       "  <thead>\n",
       "    <tr style=\"text-align: right;\">\n",
       "      <th></th>\n",
       "      <th>id</th>\n",
       "      <th>cast_id</th>\n",
       "      <th>character</th>\n",
       "      <th>credit_id</th>\n",
       "      <th>gender</th>\n",
       "      <th>name</th>\n",
       "      <th>order</th>\n",
       "    </tr>\n",
       "  </thead>\n",
       "  <tbody>\n",
       "    <tr>\n",
       "      <th>0</th>\n",
       "      <td>862</td>\n",
       "      <td>14</td>\n",
       "      <td>Woody (voice)</td>\n",
       "      <td>52fe4284c3a36847f8024f95</td>\n",
       "      <td>2</td>\n",
       "      <td>Tom Hanks</td>\n",
       "      <td>0</td>\n",
       "    </tr>\n",
       "    <tr>\n",
       "      <th>1</th>\n",
       "      <td>862</td>\n",
       "      <td>15</td>\n",
       "      <td>Buzz Lightyear (voice)</td>\n",
       "      <td>52fe4284c3a36847f8024f99</td>\n",
       "      <td>2</td>\n",
       "      <td>Tim Allen</td>\n",
       "      <td>1</td>\n",
       "    </tr>\n",
       "    <tr>\n",
       "      <th>2</th>\n",
       "      <td>862</td>\n",
       "      <td>16</td>\n",
       "      <td>Mr. Potato Head (voice)</td>\n",
       "      <td>52fe4284c3a36847f8024f9d</td>\n",
       "      <td>2</td>\n",
       "      <td>Don Rickles</td>\n",
       "      <td>2</td>\n",
       "    </tr>\n",
       "    <tr>\n",
       "      <th>3</th>\n",
       "      <td>862</td>\n",
       "      <td>17</td>\n",
       "      <td>Slinky Dog (voice)</td>\n",
       "      <td>52fe4284c3a36847f8024fa1</td>\n",
       "      <td>2</td>\n",
       "      <td>Jim Varney</td>\n",
       "      <td>3</td>\n",
       "    </tr>\n",
       "    <tr>\n",
       "      <th>4</th>\n",
       "      <td>862</td>\n",
       "      <td>18</td>\n",
       "      <td>Rex (voice)</td>\n",
       "      <td>52fe4284c3a36847f8024fa5</td>\n",
       "      <td>2</td>\n",
       "      <td>Wallace Shawn</td>\n",
       "      <td>4</td>\n",
       "    </tr>\n",
       "  </tbody>\n",
       "</table>\n",
       "</div>"
      ],
      "text/plain": [
       "    id  cast_id                character                 credit_id  gender  \\\n",
       "0  862       14            Woody (voice)  52fe4284c3a36847f8024f95       2   \n",
       "1  862       15   Buzz Lightyear (voice)  52fe4284c3a36847f8024f99       2   \n",
       "2  862       16  Mr. Potato Head (voice)  52fe4284c3a36847f8024f9d       2   \n",
       "3  862       17       Slinky Dog (voice)  52fe4284c3a36847f8024fa1       2   \n",
       "4  862       18              Rex (voice)  52fe4284c3a36847f8024fa5       2   \n",
       "\n",
       "            name  order  \n",
       "0      Tom Hanks      0  \n",
       "1      Tim Allen      1  \n",
       "2    Don Rickles      2  \n",
       "3     Jim Varney      3  \n",
       "4  Wallace Shawn      4  "
      ]
     },
     "execution_count": 40,
     "metadata": {},
     "output_type": "execute_result"
    }
   ],
   "source": [
    "cast_df.head()"
   ]
  },
  {
   "cell_type": "markdown",
   "metadata": {},
   "source": [
    "Función para desanidar la columna 'crew'"
   ]
  },
  {
   "cell_type": "code",
   "execution_count": 41,
   "metadata": {},
   "outputs": [],
   "source": [
    "def extract_crew(data):\n",
    "    crew_list = []\n",
    "    for idx, row in data.iterrows():\n",
    "        crew = ast.literal_eval(row['crew'])\n",
    "        for c in crew:\n",
    "            crew_list.append({\n",
    "                'id': row['id'],\n",
    "                'credit_id': c.get('credit_id'),\n",
    "                'department': c.get('department'),\n",
    "                'gender': c.get('gender'),\n",
    "                'job': c.get('job'),\n",
    "                'name': c.get('name')\n",
    "            })\n",
    "    return pd.DataFrame(crew_list)"
   ]
  },
  {
   "cell_type": "code",
   "execution_count": 42,
   "metadata": {},
   "outputs": [],
   "source": [
    "# Extraje la columna 'crew' en un DataFrame separado\n",
    "crew_df = extract_crew(df_credits)"
   ]
  },
  {
   "cell_type": "code",
   "execution_count": 95,
   "metadata": {},
   "outputs": [
    {
     "data": {
      "text/html": [
       "<div>\n",
       "<style scoped>\n",
       "    .dataframe tbody tr th:only-of-type {\n",
       "        vertical-align: middle;\n",
       "    }\n",
       "\n",
       "    .dataframe tbody tr th {\n",
       "        vertical-align: top;\n",
       "    }\n",
       "\n",
       "    .dataframe thead th {\n",
       "        text-align: right;\n",
       "    }\n",
       "</style>\n",
       "<table border=\"1\" class=\"dataframe\">\n",
       "  <thead>\n",
       "    <tr style=\"text-align: right;\">\n",
       "      <th></th>\n",
       "      <th>id</th>\n",
       "      <th>credit_id</th>\n",
       "      <th>department</th>\n",
       "      <th>gender</th>\n",
       "      <th>job</th>\n",
       "      <th>name</th>\n",
       "    </tr>\n",
       "  </thead>\n",
       "  <tbody>\n",
       "    <tr>\n",
       "      <th>0</th>\n",
       "      <td>862</td>\n",
       "      <td>52fe4284c3a36847f8024f49</td>\n",
       "      <td>Directing</td>\n",
       "      <td>2</td>\n",
       "      <td>Director</td>\n",
       "      <td>John Lasseter</td>\n",
       "    </tr>\n",
       "    <tr>\n",
       "      <th>1</th>\n",
       "      <td>862</td>\n",
       "      <td>52fe4284c3a36847f8024f4f</td>\n",
       "      <td>Writing</td>\n",
       "      <td>2</td>\n",
       "      <td>Screenplay</td>\n",
       "      <td>Joss Whedon</td>\n",
       "    </tr>\n",
       "    <tr>\n",
       "      <th>2</th>\n",
       "      <td>862</td>\n",
       "      <td>52fe4284c3a36847f8024f55</td>\n",
       "      <td>Writing</td>\n",
       "      <td>2</td>\n",
       "      <td>Screenplay</td>\n",
       "      <td>Andrew Stanton</td>\n",
       "    </tr>\n",
       "    <tr>\n",
       "      <th>3</th>\n",
       "      <td>862</td>\n",
       "      <td>52fe4284c3a36847f8024f5b</td>\n",
       "      <td>Writing</td>\n",
       "      <td>2</td>\n",
       "      <td>Screenplay</td>\n",
       "      <td>Joel Cohen</td>\n",
       "    </tr>\n",
       "    <tr>\n",
       "      <th>4</th>\n",
       "      <td>862</td>\n",
       "      <td>52fe4284c3a36847f8024f61</td>\n",
       "      <td>Writing</td>\n",
       "      <td>0</td>\n",
       "      <td>Screenplay</td>\n",
       "      <td>Alec Sokolow</td>\n",
       "    </tr>\n",
       "  </tbody>\n",
       "</table>\n",
       "</div>"
      ],
      "text/plain": [
       "    id                 credit_id department  gender         job  \\\n",
       "0  862  52fe4284c3a36847f8024f49  Directing       2    Director   \n",
       "1  862  52fe4284c3a36847f8024f4f    Writing       2  Screenplay   \n",
       "2  862  52fe4284c3a36847f8024f55    Writing       2  Screenplay   \n",
       "3  862  52fe4284c3a36847f8024f5b    Writing       2  Screenplay   \n",
       "4  862  52fe4284c3a36847f8024f61    Writing       0  Screenplay   \n",
       "\n",
       "             name  \n",
       "0   John Lasseter  \n",
       "1     Joss Whedon  \n",
       "2  Andrew Stanton  \n",
       "3      Joel Cohen  \n",
       "4    Alec Sokolow  "
      ]
     },
     "execution_count": 95,
     "metadata": {},
     "output_type": "execute_result"
    }
   ],
   "source": [
    "crew_df.head()"
   ]
  },
  {
   "cell_type": "markdown",
   "metadata": {},
   "source": [
    "Verifico si hay datos nulos"
   ]
  },
  {
   "cell_type": "code",
   "execution_count": 96,
   "metadata": {},
   "outputs": [
    {
     "data": {
      "text/plain": [
       "id           0\n",
       "cast_id      0\n",
       "character    0\n",
       "credit_id    0\n",
       "gender       0\n",
       "name         0\n",
       "order        0\n",
       "dtype: int64"
      ]
     },
     "execution_count": 96,
     "metadata": {},
     "output_type": "execute_result"
    }
   ],
   "source": [
    "cast_df.isnull().sum()"
   ]
  },
  {
   "cell_type": "code",
   "execution_count": 97,
   "metadata": {},
   "outputs": [
    {
     "data": {
      "text/plain": [
       "id            0\n",
       "credit_id     0\n",
       "department    0\n",
       "gender        0\n",
       "job           0\n",
       "name          0\n",
       "dtype: int64"
      ]
     },
     "execution_count": 97,
     "metadata": {},
     "output_type": "execute_result"
    }
   ],
   "source": [
    "crew_df.isnull().sum()"
   ]
  },
  {
   "cell_type": "markdown",
   "metadata": {},
   "source": [
    "Verifico y elimino filas duplicadas de cada columna"
   ]
  },
  {
   "cell_type": "code",
   "execution_count": 98,
   "metadata": {},
   "outputs": [
    {
     "name": "stdout",
     "output_type": "stream",
     "text": [
      "Tamaño del set antes de eliminar las filas repetidas: (562044, 7)\n",
      "Tamaño del set despues de eliminar las filas repetidas: (562044, 7)\n"
     ]
    }
   ],
   "source": [
    "print(f'Tamaño del set antes de eliminar las filas repetidas: {cast_df.shape}')\n",
    "cast_df.drop_duplicates(inplace=True)\n",
    "print(f'Tamaño del set despues de eliminar las filas repetidas: {cast_df.shape}')"
   ]
  },
  {
   "cell_type": "code",
   "execution_count": 99,
   "metadata": {},
   "outputs": [
    {
     "name": "stdout",
     "output_type": "stream",
     "text": [
      "Tamaño del set antes de eliminar las filas repetidas: (463836, 6)\n",
      "Tamaño del set despues de eliminar las filas repetidas: (463836, 6)\n"
     ]
    }
   ],
   "source": [
    "print(f'Tamaño del set antes de eliminar las filas repetidas: {crew_df.shape}')\n",
    "crew_df.drop_duplicates(inplace=True)\n",
    "print(f'Tamaño del set despues de eliminar las filas repetidas: {crew_df.shape}')"
   ]
  },
  {
   "cell_type": "markdown",
   "metadata": {},
   "source": [
    "Exporto los DataFrames a archivos CSV separados"
   ]
  },
  {
   "cell_type": "code",
   "execution_count": 48,
   "metadata": {},
   "outputs": [],
   "source": [
    "cast_df.to_csv('cast.csv', index=False)\n",
    "crew_df.to_csv('crew.csv', index=False)"
   ]
  },
  {
   "cell_type": "markdown",
   "metadata": {},
   "source": [
    "Uno los DataFrames con el DataFrame principal"
   ]
  },
  {
   "cell_type": "code",
   "execution_count": 49,
   "metadata": {},
   "outputs": [],
   "source": [
    "df_credits_merged = df_credits.drop(columns=['cast', 'crew'])\n",
    "df_credits_merged = df_credits_merged.merge(cast_df, on='id', how='left')\n",
    "df_credits_merged = df_credits_merged.merge(crew_df, on='id', how='left')"
   ]
  },
  {
   "cell_type": "code",
   "execution_count": 50,
   "metadata": {},
   "outputs": [
    {
     "data": {
      "text/html": [
       "<div>\n",
       "<style scoped>\n",
       "    .dataframe tbody tr th:only-of-type {\n",
       "        vertical-align: middle;\n",
       "    }\n",
       "\n",
       "    .dataframe tbody tr th {\n",
       "        vertical-align: top;\n",
       "    }\n",
       "\n",
       "    .dataframe thead th {\n",
       "        text-align: right;\n",
       "    }\n",
       "</style>\n",
       "<table border=\"1\" class=\"dataframe\">\n",
       "  <thead>\n",
       "    <tr style=\"text-align: right;\">\n",
       "      <th></th>\n",
       "      <th>id</th>\n",
       "      <th>cast_id</th>\n",
       "      <th>character</th>\n",
       "      <th>credit_id_x</th>\n",
       "      <th>gender_x</th>\n",
       "      <th>name_x</th>\n",
       "      <th>order</th>\n",
       "      <th>credit_id_y</th>\n",
       "      <th>department</th>\n",
       "      <th>gender_y</th>\n",
       "      <th>job</th>\n",
       "      <th>name_y</th>\n",
       "    </tr>\n",
       "  </thead>\n",
       "  <tbody>\n",
       "    <tr>\n",
       "      <th>0</th>\n",
       "      <td>862</td>\n",
       "      <td>14.0</td>\n",
       "      <td>Woody (voice)</td>\n",
       "      <td>52fe4284c3a36847f8024f95</td>\n",
       "      <td>2.0</td>\n",
       "      <td>Tom Hanks</td>\n",
       "      <td>0.0</td>\n",
       "      <td>52fe4284c3a36847f8024f49</td>\n",
       "      <td>Directing</td>\n",
       "      <td>2.0</td>\n",
       "      <td>Director</td>\n",
       "      <td>John Lasseter</td>\n",
       "    </tr>\n",
       "    <tr>\n",
       "      <th>1</th>\n",
       "      <td>862</td>\n",
       "      <td>14.0</td>\n",
       "      <td>Woody (voice)</td>\n",
       "      <td>52fe4284c3a36847f8024f95</td>\n",
       "      <td>2.0</td>\n",
       "      <td>Tom Hanks</td>\n",
       "      <td>0.0</td>\n",
       "      <td>52fe4284c3a36847f8024f4f</td>\n",
       "      <td>Writing</td>\n",
       "      <td>2.0</td>\n",
       "      <td>Screenplay</td>\n",
       "      <td>Joss Whedon</td>\n",
       "    </tr>\n",
       "    <tr>\n",
       "      <th>2</th>\n",
       "      <td>862</td>\n",
       "      <td>14.0</td>\n",
       "      <td>Woody (voice)</td>\n",
       "      <td>52fe4284c3a36847f8024f95</td>\n",
       "      <td>2.0</td>\n",
       "      <td>Tom Hanks</td>\n",
       "      <td>0.0</td>\n",
       "      <td>52fe4284c3a36847f8024f55</td>\n",
       "      <td>Writing</td>\n",
       "      <td>2.0</td>\n",
       "      <td>Screenplay</td>\n",
       "      <td>Andrew Stanton</td>\n",
       "    </tr>\n",
       "    <tr>\n",
       "      <th>3</th>\n",
       "      <td>862</td>\n",
       "      <td>14.0</td>\n",
       "      <td>Woody (voice)</td>\n",
       "      <td>52fe4284c3a36847f8024f95</td>\n",
       "      <td>2.0</td>\n",
       "      <td>Tom Hanks</td>\n",
       "      <td>0.0</td>\n",
       "      <td>52fe4284c3a36847f8024f5b</td>\n",
       "      <td>Writing</td>\n",
       "      <td>2.0</td>\n",
       "      <td>Screenplay</td>\n",
       "      <td>Joel Cohen</td>\n",
       "    </tr>\n",
       "    <tr>\n",
       "      <th>4</th>\n",
       "      <td>862</td>\n",
       "      <td>14.0</td>\n",
       "      <td>Woody (voice)</td>\n",
       "      <td>52fe4284c3a36847f8024f95</td>\n",
       "      <td>2.0</td>\n",
       "      <td>Tom Hanks</td>\n",
       "      <td>0.0</td>\n",
       "      <td>52fe4284c3a36847f8024f61</td>\n",
       "      <td>Writing</td>\n",
       "      <td>0.0</td>\n",
       "      <td>Screenplay</td>\n",
       "      <td>Alec Sokolow</td>\n",
       "    </tr>\n",
       "  </tbody>\n",
       "</table>\n",
       "</div>"
      ],
      "text/plain": [
       "    id  cast_id      character               credit_id_x  gender_x     name_x  \\\n",
       "0  862     14.0  Woody (voice)  52fe4284c3a36847f8024f95       2.0  Tom Hanks   \n",
       "1  862     14.0  Woody (voice)  52fe4284c3a36847f8024f95       2.0  Tom Hanks   \n",
       "2  862     14.0  Woody (voice)  52fe4284c3a36847f8024f95       2.0  Tom Hanks   \n",
       "3  862     14.0  Woody (voice)  52fe4284c3a36847f8024f95       2.0  Tom Hanks   \n",
       "4  862     14.0  Woody (voice)  52fe4284c3a36847f8024f95       2.0  Tom Hanks   \n",
       "\n",
       "   order               credit_id_y department  gender_y         job  \\\n",
       "0    0.0  52fe4284c3a36847f8024f49  Directing       2.0    Director   \n",
       "1    0.0  52fe4284c3a36847f8024f4f    Writing       2.0  Screenplay   \n",
       "2    0.0  52fe4284c3a36847f8024f55    Writing       2.0  Screenplay   \n",
       "3    0.0  52fe4284c3a36847f8024f5b    Writing       2.0  Screenplay   \n",
       "4    0.0  52fe4284c3a36847f8024f61    Writing       0.0  Screenplay   \n",
       "\n",
       "           name_y  \n",
       "0   John Lasseter  \n",
       "1     Joss Whedon  \n",
       "2  Andrew Stanton  \n",
       "3      Joel Cohen  \n",
       "4    Alec Sokolow  "
      ]
     },
     "execution_count": 50,
     "metadata": {},
     "output_type": "execute_result"
    }
   ],
   "source": [
    "df_credits_merged.head()"
   ]
  },
  {
   "cell_type": "code",
   "execution_count": 51,
   "metadata": {},
   "outputs": [
    {
     "name": "stdout",
     "output_type": "stream",
     "text": [
      "<class 'pandas.core.frame.DataFrame'>\n",
      "RangeIndex: 9484668 entries, 0 to 9484667\n",
      "Data columns (total 12 columns):\n",
      " #   Column       Dtype  \n",
      "---  ------       -----  \n",
      " 0   id           int64  \n",
      " 1   cast_id      float64\n",
      " 2   character    object \n",
      " 3   credit_id_x  object \n",
      " 4   gender_x     float64\n",
      " 5   name_x       object \n",
      " 6   order        float64\n",
      " 7   credit_id_y  object \n",
      " 8   department   object \n",
      " 9   gender_y     float64\n",
      " 10  job          object \n",
      " 11  name_y       object \n",
      "dtypes: float64(4), int64(1), object(7)\n",
      "memory usage: 868.3+ MB\n"
     ]
    }
   ],
   "source": [
    "df_credits_merged.info()"
   ]
  },
  {
   "cell_type": "markdown",
   "metadata": {},
   "source": [
    "Defino y elimino columnas innecesarias"
   ]
  },
  {
   "cell_type": "code",
   "execution_count": 52,
   "metadata": {},
   "outputs": [],
   "source": [
    "col_innecesarias = ['cast_id', 'character', 'credit_id_x', 'gender_x', 'order', 'credit_id_y', 'gender_y']\n",
    "df_credits_merged = df_credits_merged.drop(columns=col_innecesarias)"
   ]
  },
  {
   "cell_type": "code",
   "execution_count": 100,
   "metadata": {},
   "outputs": [
    {
     "data": {
      "text/html": [
       "<div>\n",
       "<style scoped>\n",
       "    .dataframe tbody tr th:only-of-type {\n",
       "        vertical-align: middle;\n",
       "    }\n",
       "\n",
       "    .dataframe tbody tr th {\n",
       "        vertical-align: top;\n",
       "    }\n",
       "\n",
       "    .dataframe thead th {\n",
       "        text-align: right;\n",
       "    }\n",
       "</style>\n",
       "<table border=\"1\" class=\"dataframe\">\n",
       "  <thead>\n",
       "    <tr style=\"text-align: right;\">\n",
       "      <th></th>\n",
       "      <th>id</th>\n",
       "      <th>actor</th>\n",
       "      <th>department</th>\n",
       "      <th>job</th>\n",
       "      <th>director</th>\n",
       "    </tr>\n",
       "  </thead>\n",
       "  <tbody>\n",
       "    <tr>\n",
       "      <th>0</th>\n",
       "      <td>862</td>\n",
       "      <td>Tom Hanks</td>\n",
       "      <td>Directing</td>\n",
       "      <td>Director</td>\n",
       "      <td>John Lasseter</td>\n",
       "    </tr>\n",
       "    <tr>\n",
       "      <th>1</th>\n",
       "      <td>862</td>\n",
       "      <td>Tom Hanks</td>\n",
       "      <td>Writing</td>\n",
       "      <td>Screenplay</td>\n",
       "      <td>Joss Whedon</td>\n",
       "    </tr>\n",
       "    <tr>\n",
       "      <th>2</th>\n",
       "      <td>862</td>\n",
       "      <td>Tom Hanks</td>\n",
       "      <td>Writing</td>\n",
       "      <td>Screenplay</td>\n",
       "      <td>Andrew Stanton</td>\n",
       "    </tr>\n",
       "    <tr>\n",
       "      <th>3</th>\n",
       "      <td>862</td>\n",
       "      <td>Tom Hanks</td>\n",
       "      <td>Writing</td>\n",
       "      <td>Screenplay</td>\n",
       "      <td>Joel Cohen</td>\n",
       "    </tr>\n",
       "    <tr>\n",
       "      <th>4</th>\n",
       "      <td>862</td>\n",
       "      <td>Tom Hanks</td>\n",
       "      <td>Writing</td>\n",
       "      <td>Screenplay</td>\n",
       "      <td>Alec Sokolow</td>\n",
       "    </tr>\n",
       "  </tbody>\n",
       "</table>\n",
       "</div>"
      ],
      "text/plain": [
       "    id      actor department         job        director\n",
       "0  862  Tom Hanks  Directing    Director   John Lasseter\n",
       "1  862  Tom Hanks    Writing  Screenplay     Joss Whedon\n",
       "2  862  Tom Hanks    Writing  Screenplay  Andrew Stanton\n",
       "3  862  Tom Hanks    Writing  Screenplay      Joel Cohen\n",
       "4  862  Tom Hanks    Writing  Screenplay    Alec Sokolow"
      ]
     },
     "execution_count": 100,
     "metadata": {},
     "output_type": "execute_result"
    }
   ],
   "source": [
    "df_credits_merged.head()"
   ]
  },
  {
   "cell_type": "code",
   "execution_count": 101,
   "metadata": {},
   "outputs": [
    {
     "data": {
      "text/plain": [
       "(9484668, 5)"
      ]
     },
     "execution_count": 101,
     "metadata": {},
     "output_type": "execute_result"
    }
   ],
   "source": [
    "df_credits_merged.shape"
   ]
  },
  {
   "cell_type": "code",
   "execution_count": 59,
   "metadata": {},
   "outputs": [],
   "source": [
    "# Modifico los nombres de las columnas\n",
    "column_rename_map = {\n",
    "    'id': 'id',\n",
    "    'name_x': 'actor',\n",
    "    'department': 'department',\n",
    "    'job': 'job',\n",
    "    'name_y': 'director'\n",
    "}\n",
    "\n",
    "# Cambio los nombres de las columnas\n",
    "df_credits_merged.rename(columns=column_rename_map, inplace=True)"
   ]
  },
  {
   "cell_type": "code",
   "execution_count": 127,
   "metadata": {},
   "outputs": [
    {
     "data": {
      "text/html": [
       "<div>\n",
       "<style scoped>\n",
       "    .dataframe tbody tr th:only-of-type {\n",
       "        vertical-align: middle;\n",
       "    }\n",
       "\n",
       "    .dataframe tbody tr th {\n",
       "        vertical-align: top;\n",
       "    }\n",
       "\n",
       "    .dataframe thead th {\n",
       "        text-align: right;\n",
       "    }\n",
       "</style>\n",
       "<table border=\"1\" class=\"dataframe\">\n",
       "  <thead>\n",
       "    <tr style=\"text-align: right;\">\n",
       "      <th></th>\n",
       "      <th>id</th>\n",
       "      <th>actor</th>\n",
       "      <th>department</th>\n",
       "      <th>job</th>\n",
       "      <th>director</th>\n",
       "    </tr>\n",
       "  </thead>\n",
       "  <tbody>\n",
       "    <tr>\n",
       "      <th>0</th>\n",
       "      <td>862</td>\n",
       "      <td>Tom Hanks</td>\n",
       "      <td>Directing</td>\n",
       "      <td>Director</td>\n",
       "      <td>John Lasseter</td>\n",
       "    </tr>\n",
       "    <tr>\n",
       "      <th>1</th>\n",
       "      <td>862</td>\n",
       "      <td>Tom Hanks</td>\n",
       "      <td>Writing</td>\n",
       "      <td>Screenplay</td>\n",
       "      <td>Joss Whedon</td>\n",
       "    </tr>\n",
       "    <tr>\n",
       "      <th>2</th>\n",
       "      <td>862</td>\n",
       "      <td>Tom Hanks</td>\n",
       "      <td>Writing</td>\n",
       "      <td>Screenplay</td>\n",
       "      <td>Andrew Stanton</td>\n",
       "    </tr>\n",
       "    <tr>\n",
       "      <th>3</th>\n",
       "      <td>862</td>\n",
       "      <td>Tom Hanks</td>\n",
       "      <td>Writing</td>\n",
       "      <td>Screenplay</td>\n",
       "      <td>Joel Cohen</td>\n",
       "    </tr>\n",
       "    <tr>\n",
       "      <th>4</th>\n",
       "      <td>862</td>\n",
       "      <td>Tom Hanks</td>\n",
       "      <td>Writing</td>\n",
       "      <td>Screenplay</td>\n",
       "      <td>Alec Sokolow</td>\n",
       "    </tr>\n",
       "  </tbody>\n",
       "</table>\n",
       "</div>"
      ],
      "text/plain": [
       "    id      actor department         job        director\n",
       "0  862  Tom Hanks  Directing    Director   John Lasseter\n",
       "1  862  Tom Hanks    Writing  Screenplay     Joss Whedon\n",
       "2  862  Tom Hanks    Writing  Screenplay  Andrew Stanton\n",
       "3  862  Tom Hanks    Writing  Screenplay      Joel Cohen\n",
       "4  862  Tom Hanks    Writing  Screenplay    Alec Sokolow"
      ]
     },
     "execution_count": 127,
     "metadata": {},
     "output_type": "execute_result"
    }
   ],
   "source": [
    "df_credits_merged.head()"
   ]
  },
  {
   "cell_type": "markdown",
   "metadata": {},
   "source": [
    "Verifico categorias unicas"
   ]
  },
  {
   "cell_type": "code",
   "execution_count": 128,
   "metadata": {},
   "outputs": [
    {
     "name": "stdout",
     "output_type": "stream",
     "text": [
      "Categorías únicas en 'actor': 202747\n",
      "Categorías únicas en 'department': 12\n",
      "Categorías únicas en 'job': 456\n",
      "Categorías únicas en 'director': 157614\n"
     ]
    }
   ],
   "source": [
    "print(\"Categorías únicas en 'actor':\", df_credits_merged['actor'].nunique())\n",
    "print(\"Categorías únicas en 'department':\", df_credits_merged['department'].nunique())\n",
    "print(\"Categorías únicas en 'job':\", df_credits_merged['job'].nunique())\n",
    "print(\"Categorías únicas en 'director':\", df_credits_merged['director'].nunique())"
   ]
  },
  {
   "cell_type": "code",
   "execution_count": 133,
   "metadata": {},
   "outputs": [],
   "source": [
    "df_credits_merged = df_credits_merged.dropna(subset=['id', 'actor', 'department', 'job', 'director'])"
   ]
  },
  {
   "cell_type": "code",
   "execution_count": 134,
   "metadata": {},
   "outputs": [
    {
     "name": "stdout",
     "output_type": "stream",
     "text": [
      "Categorías únicas en 'actor': 202299\n",
      "Categorías únicas en 'department': 12\n",
      "Categorías únicas en 'job': 456\n",
      "Categorías únicas en 'director': 155784\n"
     ]
    }
   ],
   "source": [
    "print(\"Categorías únicas en 'actor':\", df_credits_merged['actor'].nunique())\n",
    "print(\"Categorías únicas en 'department':\", df_credits_merged['department'].nunique())\n",
    "print(\"Categorías únicas en 'job':\", df_credits_merged['job'].nunique())\n",
    "print(\"Categorías únicas en 'director':\", df_credits_merged['director'].nunique())"
   ]
  },
  {
   "cell_type": "markdown",
   "metadata": {},
   "source": [
    "Trabajo los valores nulos `NaN` y 'Null'"
   ]
  },
  {
   "cell_type": "code",
   "execution_count": 135,
   "metadata": {},
   "outputs": [],
   "source": [
    "df_credits_merged = df_credits_merged.dropna(how='all')"
   ]
  },
  {
   "cell_type": "markdown",
   "metadata": {},
   "source": [
    "Verifico si quedaron filas con 'NaN'"
   ]
  },
  {
   "cell_type": "code",
   "execution_count": 140,
   "metadata": {},
   "outputs": [
    {
     "data": {
      "text/plain": [
       "id            0\n",
       "actor         0\n",
       "department    0\n",
       "job           0\n",
       "director      0\n",
       "dtype: int64"
      ]
     },
     "execution_count": 140,
     "metadata": {},
     "output_type": "execute_result"
    }
   ],
   "source": [
    "df_credits_merged.isna().sum()"
   ]
  },
  {
   "cell_type": "code",
   "execution_count": 143,
   "metadata": {},
   "outputs": [
    {
     "name": "stdout",
     "output_type": "stream",
     "text": [
      "Tamaño del set antes de eliminar las filas repetidas: (9477663, 5)\n",
      "Tamaño del set despues de eliminar las filas repetidas: (9450206, 5)\n"
     ]
    }
   ],
   "source": [
    "print(f'Tamaño del set antes de eliminar las filas repetidas: {df_credits_merged.shape}')\n",
    "df_credits_merged.drop_duplicates(inplace=True)\n",
    "print(f'Tamaño del set despues de eliminar las filas repetidas: {df_credits_merged.shape}')"
   ]
  },
  {
   "cell_type": "code",
   "execution_count": 159,
   "metadata": {},
   "outputs": [],
   "source": [
    "df_credits_merged.fillna(0, inplace=True)"
   ]
  },
  {
   "cell_type": "code",
   "execution_count": 160,
   "metadata": {},
   "outputs": [
    {
     "data": {
      "text/plain": [
       "(9450206, 5)"
      ]
     },
     "execution_count": 160,
     "metadata": {},
     "output_type": "execute_result"
    }
   ],
   "source": [
    "df_credits_merged.shape"
   ]
  },
  {
   "cell_type": "markdown",
   "metadata": {},
   "source": [
    "Exporto el archivo limpio"
   ]
  },
  {
   "cell_type": "code",
   "execution_count": 163,
   "metadata": {},
   "outputs": [],
   "source": [
    "# Exporto en archivo Parquet\n",
    "df_credits_merged.to_parquet('../data/procesado/credits_pilabs.parquet', engine='pyarrow')"
   ]
  }
 ],
 "metadata": {
  "kernelspec": {
   "display_name": "pilabs",
   "language": "python",
   "name": "python3"
  },
  "language_info": {
   "codemirror_mode": {
    "name": "ipython",
    "version": 3
   },
   "file_extension": ".py",
   "mimetype": "text/x-python",
   "name": "python",
   "nbconvert_exporter": "python",
   "pygments_lexer": "ipython3",
   "version": "3.11.9"
  }
 },
 "nbformat": 4,
 "nbformat_minor": 2
}
